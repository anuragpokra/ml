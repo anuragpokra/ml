{
  "nbformat": 4,
  "nbformat_minor": 0,
  "metadata": {
    "colab": {
      "name": "ANURAG POKRA",
      "provenance": []
    },
    "kernelspec": {
      "name": "python3",
      "display_name": "Python 3"
    }
  },
  "cells": [
    {
      "cell_type": "code",
      "metadata": {
        "id": "Sdf9F1FNx7Co"
      },
      "source": [
        "# Data Preprocessing\n",
        "\n",
        "# Importing the libraries\n",
        "import numpy as np\n",
        "import matplotlib.pyplot as plt\n",
        "import pandas as pd"
      ],
      "execution_count": 1,
      "outputs": []
    },
    {
      "cell_type": "markdown",
      "metadata": {
        "id": "BagSH6uIDTUi"
      },
      "source": [
        "Customer Segmentation is the subdivision of a market into discrete customer groups that share similar characteristics. Customer Segmentation can be a powerful means to identify unsatisfied customer needs. Using the above data companies can then outperform the competition by developing uniquely appealing products and services."
      ]
    },
    {
      "cell_type": "code",
      "metadata": {
        "id": "n8BsABQwJQcj",
        "colab": {
          "resources": {
            "http://localhost:8080/nbextensions/google.colab/files.js": {
              "data": "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",
              "ok": true,
              "headers": [
                [
                  "content-type",
                  "application/javascript"
                ]
              ],
              "status": 200,
              "status_text": ""
            }
          },
          "base_uri": "https://localhost:8080/",
          "height": 74
        },
        "outputId": "bbd13c08-a2e5-4bbc-b014-5720a6c25fdb"
      },
      "source": [
        "from google.colab import files\n",
        "uploaded = files.upload()"
      ],
      "execution_count": 2,
      "outputs": [
        {
          "output_type": "display_data",
          "data": {
            "text/html": [
              "\n",
              "     <input type=\"file\" id=\"files-c841b262-296a-440d-8a92-19e75ff96cbb\" name=\"files[]\" multiple disabled\n",
              "        style=\"border:none\" />\n",
              "     <output id=\"result-c841b262-296a-440d-8a92-19e75ff96cbb\">\n",
              "      Upload widget is only available when the cell has been executed in the\n",
              "      current browser session. Please rerun this cell to enable.\n",
              "      </output>\n",
              "      <script src=\"/nbextensions/google.colab/files.js\"></script> "
            ],
            "text/plain": [
              "<IPython.core.display.HTML object>"
            ]
          },
          "metadata": {
            "tags": []
          }
        },
        {
          "output_type": "stream",
          "text": [
            "Saving Wholesale customers data.csv to Wholesale customers data.csv\n"
          ],
          "name": "stdout"
        }
      ]
    },
    {
      "cell_type": "code",
      "metadata": {
        "id": "dP36P0hsMFw0",
        "colab": {
          "base_uri": "https://localhost:8080/",
          "height": 402
        },
        "outputId": "67591e91-7b0b-42dc-e3bd-ecce9e095528"
      },
      "source": [
        "# Importing the dataset\n",
        "dataset = pd.read_csv('Wholesale customers data.csv')\n",
        "dataset"
      ],
      "execution_count": 3,
      "outputs": [
        {
          "output_type": "execute_result",
          "data": {
            "text/html": [
              "<div>\n",
              "<style scoped>\n",
              "    .dataframe tbody tr th:only-of-type {\n",
              "        vertical-align: middle;\n",
              "    }\n",
              "\n",
              "    .dataframe tbody tr th {\n",
              "        vertical-align: top;\n",
              "    }\n",
              "\n",
              "    .dataframe thead th {\n",
              "        text-align: right;\n",
              "    }\n",
              "</style>\n",
              "<table border=\"1\" class=\"dataframe\">\n",
              "  <thead>\n",
              "    <tr style=\"text-align: right;\">\n",
              "      <th></th>\n",
              "      <th>Channel</th>\n",
              "      <th>Region</th>\n",
              "      <th>Fresh</th>\n",
              "      <th>Milk</th>\n",
              "      <th>Grocery</th>\n",
              "      <th>Frozen</th>\n",
              "      <th>Detergents_Paper</th>\n",
              "      <th>Delicassen</th>\n",
              "    </tr>\n",
              "  </thead>\n",
              "  <tbody>\n",
              "    <tr>\n",
              "      <th>0</th>\n",
              "      <td>2</td>\n",
              "      <td>3</td>\n",
              "      <td>12669</td>\n",
              "      <td>9656</td>\n",
              "      <td>7561</td>\n",
              "      <td>214</td>\n",
              "      <td>2674</td>\n",
              "      <td>1338</td>\n",
              "    </tr>\n",
              "    <tr>\n",
              "      <th>1</th>\n",
              "      <td>2</td>\n",
              "      <td>3</td>\n",
              "      <td>7057</td>\n",
              "      <td>9810</td>\n",
              "      <td>9568</td>\n",
              "      <td>1762</td>\n",
              "      <td>3293</td>\n",
              "      <td>1776</td>\n",
              "    </tr>\n",
              "    <tr>\n",
              "      <th>2</th>\n",
              "      <td>2</td>\n",
              "      <td>3</td>\n",
              "      <td>6353</td>\n",
              "      <td>8808</td>\n",
              "      <td>7684</td>\n",
              "      <td>2405</td>\n",
              "      <td>3516</td>\n",
              "      <td>7844</td>\n",
              "    </tr>\n",
              "    <tr>\n",
              "      <th>3</th>\n",
              "      <td>1</td>\n",
              "      <td>3</td>\n",
              "      <td>13265</td>\n",
              "      <td>1196</td>\n",
              "      <td>4221</td>\n",
              "      <td>6404</td>\n",
              "      <td>507</td>\n",
              "      <td>1788</td>\n",
              "    </tr>\n",
              "    <tr>\n",
              "      <th>4</th>\n",
              "      <td>2</td>\n",
              "      <td>3</td>\n",
              "      <td>22615</td>\n",
              "      <td>5410</td>\n",
              "      <td>7198</td>\n",
              "      <td>3915</td>\n",
              "      <td>1777</td>\n",
              "      <td>5185</td>\n",
              "    </tr>\n",
              "    <tr>\n",
              "      <th>...</th>\n",
              "      <td>...</td>\n",
              "      <td>...</td>\n",
              "      <td>...</td>\n",
              "      <td>...</td>\n",
              "      <td>...</td>\n",
              "      <td>...</td>\n",
              "      <td>...</td>\n",
              "      <td>...</td>\n",
              "    </tr>\n",
              "    <tr>\n",
              "      <th>435</th>\n",
              "      <td>1</td>\n",
              "      <td>3</td>\n",
              "      <td>29703</td>\n",
              "      <td>12051</td>\n",
              "      <td>16027</td>\n",
              "      <td>13135</td>\n",
              "      <td>182</td>\n",
              "      <td>2204</td>\n",
              "    </tr>\n",
              "    <tr>\n",
              "      <th>436</th>\n",
              "      <td>1</td>\n",
              "      <td>3</td>\n",
              "      <td>39228</td>\n",
              "      <td>1431</td>\n",
              "      <td>764</td>\n",
              "      <td>4510</td>\n",
              "      <td>93</td>\n",
              "      <td>2346</td>\n",
              "    </tr>\n",
              "    <tr>\n",
              "      <th>437</th>\n",
              "      <td>2</td>\n",
              "      <td>3</td>\n",
              "      <td>14531</td>\n",
              "      <td>15488</td>\n",
              "      <td>30243</td>\n",
              "      <td>437</td>\n",
              "      <td>14841</td>\n",
              "      <td>1867</td>\n",
              "    </tr>\n",
              "    <tr>\n",
              "      <th>438</th>\n",
              "      <td>1</td>\n",
              "      <td>3</td>\n",
              "      <td>10290</td>\n",
              "      <td>1981</td>\n",
              "      <td>2232</td>\n",
              "      <td>1038</td>\n",
              "      <td>168</td>\n",
              "      <td>2125</td>\n",
              "    </tr>\n",
              "    <tr>\n",
              "      <th>439</th>\n",
              "      <td>1</td>\n",
              "      <td>3</td>\n",
              "      <td>2787</td>\n",
              "      <td>1698</td>\n",
              "      <td>2510</td>\n",
              "      <td>65</td>\n",
              "      <td>477</td>\n",
              "      <td>52</td>\n",
              "    </tr>\n",
              "  </tbody>\n",
              "</table>\n",
              "<p>440 rows × 8 columns</p>\n",
              "</div>"
            ],
            "text/plain": [
              "     Channel  Region  Fresh  ...  Frozen  Detergents_Paper  Delicassen\n",
              "0          2       3  12669  ...     214              2674        1338\n",
              "1          2       3   7057  ...    1762              3293        1776\n",
              "2          2       3   6353  ...    2405              3516        7844\n",
              "3          1       3  13265  ...    6404               507        1788\n",
              "4          2       3  22615  ...    3915              1777        5185\n",
              "..       ...     ...    ...  ...     ...               ...         ...\n",
              "435        1       3  29703  ...   13135               182        2204\n",
              "436        1       3  39228  ...    4510                93        2346\n",
              "437        2       3  14531  ...     437             14841        1867\n",
              "438        1       3  10290  ...    1038               168        2125\n",
              "439        1       3   2787  ...      65               477          52\n",
              "\n",
              "[440 rows x 8 columns]"
            ]
          },
          "metadata": {
            "tags": []
          },
          "execution_count": 3
        }
      ]
    },
    {
      "cell_type": "code",
      "metadata": {
        "id": "CNqGMShi2sEd",
        "colab": {
          "base_uri": "https://localhost:8080/"
        },
        "outputId": "b9496a86-35a2-4153-972a-ba5c9a99778b"
      },
      "source": [
        "# Mounting Google Drive\n",
        "from google.colab import drive\n",
        "drive.mount('/content/drive')"
      ],
      "execution_count": 4,
      "outputs": [
        {
          "output_type": "stream",
          "text": [
            "Mounted at /content/drive\n"
          ],
          "name": "stdout"
        }
      ]
    },
    {
      "cell_type": "code",
      "metadata": {
        "id": "LFnXePSZzHNH"
      },
      "source": [
        "# Importing the dataset\n",
        "dataset = pd.read_csv('/content/Wholesale customers data.csv')"
      ],
      "execution_count": 6,
      "outputs": []
    },
    {
      "cell_type": "code",
      "metadata": {
        "id": "2-0WvGR2zfxK",
        "colab": {
          "base_uri": "https://localhost:8080/"
        },
        "outputId": "9d7ffb68-ec55-4b88-e1bc-624e707597f4"
      },
      "source": [
        "print(dataset)"
      ],
      "execution_count": 7,
      "outputs": [
        {
          "output_type": "stream",
          "text": [
            "     Channel  Region  Fresh  ...  Frozen  Detergents_Paper  Delicassen\n",
            "0          2       3  12669  ...     214              2674        1338\n",
            "1          2       3   7057  ...    1762              3293        1776\n",
            "2          2       3   6353  ...    2405              3516        7844\n",
            "3          1       3  13265  ...    6404               507        1788\n",
            "4          2       3  22615  ...    3915              1777        5185\n",
            "..       ...     ...    ...  ...     ...               ...         ...\n",
            "435        1       3  29703  ...   13135               182        2204\n",
            "436        1       3  39228  ...    4510                93        2346\n",
            "437        2       3  14531  ...     437             14841        1867\n",
            "438        1       3  10290  ...    1038               168        2125\n",
            "439        1       3   2787  ...      65               477          52\n",
            "\n",
            "[440 rows x 8 columns]\n"
          ],
          "name": "stdout"
        }
      ]
    },
    {
      "cell_type": "code",
      "metadata": {
        "id": "TVV_6a-TNo5w",
        "colab": {
          "base_uri": "https://localhost:8080/"
        },
        "outputId": "0d711a0c-ea8f-4f09-ec03-5983af46f118"
      },
      "source": [
        "#Print Total number of Rows & columns in dataset\n",
        "print(dataset.shape)"
      ],
      "execution_count": 8,
      "outputs": [
        {
          "output_type": "stream",
          "text": [
            "(440, 8)\n"
          ],
          "name": "stdout"
        }
      ]
    },
    {
      "cell_type": "code",
      "metadata": {
        "id": "IEi2neEQNx_M",
        "colab": {
          "base_uri": "https://localhost:8080/"
        },
        "outputId": "8b06b839-ec88-46d4-81e3-72235e9ccbdf"
      },
      "source": [
        "#Print Information about data\n",
        "dataset.info()"
      ],
      "execution_count": 9,
      "outputs": [
        {
          "output_type": "stream",
          "text": [
            "<class 'pandas.core.frame.DataFrame'>\n",
            "RangeIndex: 440 entries, 0 to 439\n",
            "Data columns (total 8 columns):\n",
            " #   Column            Non-Null Count  Dtype\n",
            "---  ------            --------------  -----\n",
            " 0   Channel           440 non-null    int64\n",
            " 1   Region            440 non-null    int64\n",
            " 2   Fresh             440 non-null    int64\n",
            " 3   Milk              440 non-null    int64\n",
            " 4   Grocery           440 non-null    int64\n",
            " 5   Frozen            440 non-null    int64\n",
            " 6   Detergents_Paper  440 non-null    int64\n",
            " 7   Delicassen        440 non-null    int64\n",
            "dtypes: int64(8)\n",
            "memory usage: 27.6 KB\n"
          ],
          "name": "stdout"
        }
      ]
    },
    {
      "cell_type": "code",
      "metadata": {
        "id": "cS95b7e6N32A",
        "colab": {
          "base_uri": "https://localhost:8080/"
        },
        "outputId": "204ac2a3-343d-430c-b9bb-485ab09d279e"
      },
      "source": [
        "types = dataset.dtypes\n",
        "print(types)"
      ],
      "execution_count": 10,
      "outputs": [
        {
          "output_type": "stream",
          "text": [
            "Channel             int64\n",
            "Region              int64\n",
            "Fresh               int64\n",
            "Milk                int64\n",
            "Grocery             int64\n",
            "Frozen              int64\n",
            "Detergents_Paper    int64\n",
            "Delicassen          int64\n",
            "dtype: object\n"
          ],
          "name": "stdout"
        }
      ]
    },
    {
      "cell_type": "code",
      "metadata": {
        "id": "ZmnTh3sWOKYh",
        "colab": {
          "base_uri": "https://localhost:8080/"
        },
        "outputId": "733d176d-cd2b-4485-dd7e-bc1883342bf4"
      },
      "source": [
        "#Count total number of classes in Data\n",
        "class_counts = dataset.groupby('Frozen').size()\n",
        "print(class_counts)"
      ],
      "execution_count": 13,
      "outputs": [
        {
          "output_type": "stream",
          "text": [
            "Frozen\n",
            "25       1\n",
            "33       1\n",
            "36       1\n",
            "38       1\n",
            "42       1\n",
            "        ..\n",
            "18028    1\n",
            "18711    1\n",
            "35009    1\n",
            "36534    1\n",
            "60869    1\n",
            "Length: 426, dtype: int64\n"
          ],
          "name": "stdout"
        }
      ]
    },
    {
      "cell_type": "code",
      "metadata": {
        "id": "CemFo1AXOUTF",
        "colab": {
          "base_uri": "https://localhost:8080/",
          "height": 281
        },
        "outputId": "6eddd9b2-2f3a-4838-87b2-243489ffa507"
      },
      "source": [
        "from matplotlib import pyplot\n",
        "dataset.hist()\n",
        "pyplot.show()"
      ],
      "execution_count": 14,
      "outputs": [
        {
          "output_type": "display_data",
          "data": {
            "image/png": "[encoded data removed]",
            "text/plain": [
              "<Figure size 432x288 with 9 Axes>"
            ]
          },
          "metadata": {
            "tags": [],
            "needs_background": "light"
          }
        }
      ]
    },
    {
      "cell_type": "code",
      "metadata": {
        "id": "yudic4VjOhI7",
        "colab": {
          "base_uri": "https://localhost:8080/",
          "height": 276
        },
        "outputId": "6fb55344-36f5-4895-e690-a81274f65983"
      },
      "source": [
        "dataset.plot(kind='density' ,subplots=True, layout=(3,3), sharex=False)\n",
        "pyplot.show()"
      ],
      "execution_count": 15,
      "outputs": [
        {
          "output_type": "display_data",
          "data": {
            "image/png": "[encoded data removed]",
            "text/plain": [
              "<Figure size 432x288 with 9 Axes>"
            ]
          },
          "metadata": {
            "tags": [],
            "needs_background": "light"
          }
        }
      ]
    },
    {
      "cell_type": "code",
      "metadata": {
        "id": "KtqbrjPizzuA"
      },
      "source": [
        "# Extracting features of dataset\n",
        "\n",
        "X = dataset.iloc[:, [2, 3]].values\n"
      ],
      "execution_count": 17,
      "outputs": []
    },
    {
      "cell_type": "code",
      "metadata": {
        "id": "DKuxsfwr49PG"
      },
      "source": [
        "from sklearn.preprocessing import StandardScaler\n",
        "ss=StandardScaler()\n",
        "X=ss.fit_transform(X)"
      ],
      "execution_count": 18,
      "outputs": []
    },
    {
      "cell_type": "code",
      "metadata": {
        "id": "agQ1Xjpo0avV",
        "colab": {
          "base_uri": "https://localhost:8080/"
        },
        "outputId": "6e1c7f17-dfbd-4831-9ae1-21a1de55986c"
      },
      "source": [
        "print(X)\n"
      ],
      "execution_count": 19,
      "outputs": [
        {
          "output_type": "stream",
          "text": [
            "[[ 5.29331898e-02  5.23567773e-01]\n",
            " [-3.91301970e-01  5.44457667e-01]\n",
            " [-4.47029261e-01  4.08537706e-01]\n",
            " [ 1.00111407e-01 -6.24019925e-01]\n",
            " [ 8.40239480e-01 -5.23964546e-02]\n",
            " [-2.04805527e-01  3.34066589e-01]\n",
            " [ 9.95035090e-03 -3.52315651e-01]\n",
            " [-3.49981451e-01 -1.13980948e-01]\n",
            " [-4.77900913e-01 -2.91409401e-01]\n",
            " [-4.74497115e-01  7.18494904e-01]\n",
            " [-6.83474454e-01 -5.33459952e-02]\n",
            " [ 9.06915953e-02 -6.33786629e-01]\n",
            " [ 1.56049887e+00  8.84800166e-01]\n",
            " [ 7.29576481e-01  5.58511794e-02]\n",
            " [ 1.00156365e+00  4.97658878e-01]\n",
            " [-1.38312738e-01 -6.35143116e-01]\n",
            " [-8.69179316e-01  4.09622895e-01]\n",
            " [-4.84787666e-01  4.89330975e-02]\n",
            " [ 5.22498936e-01  7.19933704e-02]\n",
            " [-3.34070677e-01 -4.47812310e-01]\n",
            " [ 4.38987159e-01 -1.73259414e-01]\n",
            " [-5.09247514e-01 -6.68105741e-01]\n",
            " [ 1.52582763e+00 -5.26217238e-01]\n",
            " [ 1.13771556e+00  4.15447557e+00]\n",
            " [ 8.42772539e-01  5.39845613e-01]\n",
            " [ 3.29669847e-01 -2.12461878e-01]\n",
            " [-1.66413857e-01 -6.55897361e-01]\n",
            " [ 1.80140229e-01 -6.77329850e-01]\n",
            " [-6.24343366e-01  1.99237151e+00]\n",
            " [ 2.46084291e+00 -5.01393533e-01]\n",
            " [ 5.39438766e-01 -2.96564050e-01]\n",
            " [-7.43159648e-01 -1.97676174e-01]\n",
            " [ 7.62427085e-01 -6.07470788e-01]\n",
            " [ 1.40337008e+00 -1.37041221e-01]\n",
            " [-8.31025120e-01 -5.17807021e-01]\n",
            " [-8.95459799e-01 -4.14089128e-02]\n",
            " [ 1.42125981e+00 -1.94556255e-01]\n",
            " [ 2.50749238e-01  6.45651571e-01]\n",
            " [-5.86505802e-01  1.34736211e+00]\n",
            " [ 3.49551821e+00 -7.10970719e-01]\n",
            " [ 9.51852377e-01 -1.98625714e-01]\n",
            " [ 5.68014834e-01 -3.70492572e-01]\n",
            " [-9.10553626e-02  2.38569930e-01]\n",
            " [-9.00050968e-01  7.18766201e-01]\n",
            " [-1.84461900e-01  1.66947435e-01]\n",
            " [-5.39802533e-01  2.20398342e+00]\n",
            " [-7.04293029e-01  1.12218533e+00]\n",
            " [ 2.56992275e+00  6.57390514e+00]\n",
            " [-3.80986053e-02  4.82548542e-02]\n",
            " [-5.56742363e-01  2.11825347e+00]\n",
            " [-4.53678540e-01 -6.37720440e-01]\n",
            " [-6.84978457e-01 -2.36742989e-01]\n",
            " [ 2.27347573e+00 -2.55055559e-01]\n",
            " [-9.11053941e-01  6.34392732e-01]\n",
            " [ 1.21339068e+00 -5.89700813e-01]\n",
            " [-5.33232413e-01 -2.86661697e-01]\n",
            " [-6.25530737e-01  3.26855414e+00]\n",
            " [-5.21121226e-01  5.61142453e-01]\n",
            " [ 1.40798662e-01 -5.19027859e-01]\n",
            " [-4.64127406e-01 -5.91788878e-02]\n",
            " [-2.69952630e-01 -3.73205545e-01]\n",
            " [ 1.89517925e+00  4.41844787e+00]\n",
            " [-3.30666879e-01  6.08701800e-02]\n",
            " [-2.06151215e-01  7.87404425e-01]\n",
            " [-5.73128086e-01 -6.19814816e-01]\n",
            " [-9.43192123e-01  2.05680462e+00]\n",
            " [-9.49208137e-01 -5.78170677e-01]\n",
            " [ 6.26354341e-01  1.30593593e-01]\n",
            " [-7.56299890e-01  1.98553574e-01]\n",
            " [-2.88792253e-01 -4.03726495e-01]\n",
            " [ 3.72415212e-01 -5.09939399e-01]\n",
            " [ 4.97959931e-01 -6.14524519e-01]\n",
            " [-6.00041834e-01 -8.91572425e-02]\n",
            " [ 6.25246128e-01 -6.29770504e-02]\n",
            " [-3.01615863e-01  7.41637491e-02]\n",
            " [ 6.64746011e-01 -6.32023196e-01]\n",
            " [-8.93164215e-01 -2.99683969e-01]\n",
            " [ 1.62038394e-02  9.36075361e-01]\n",
            " [-9.77046416e-02 -6.26868547e-01]\n",
            " [-8.20101304e-01 -3.44176731e-01]\n",
            " [-3.95418191e-01 -6.73802985e-01]\n",
            " [-9.32584940e-01  5.07832528e-01]\n",
            " [-1.29684507e-01  4.66052740e-01]\n",
            " [ 7.02425258e-01 -5.74236865e-01]\n",
            " [-1.05515925e-02 -3.34952622e-01]\n",
            " [ 3.25870259e-01  5.48030561e+00]\n",
            " [ 8.64778486e-01  9.18364979e+00]\n",
            " [ 2.47485389e+00 -1.04621190e-01]\n",
            " [-3.27421398e-01 -7.12734151e-01]\n",
            " [ 1.02143233e+00 -2.65907452e-01]\n",
            " [-4.71226267e-02 -7.05409124e-01]\n",
            " [ 5.96616268e-02 -4.11594117e-01]\n",
            " [-2.21824515e-01  2.94028437e+00]\n",
            " [-5.43260123e-02 -3.67101355e-01]\n",
            " [-5.04577187e-01  8.71370948e-01]\n",
            " [-9.49683086e-01 -3.90161628e-01]\n",
            " [-9.48099924e-01 -4.31398822e-01]\n",
            " [-9.18019853e-01 -7.51800967e-01]\n",
            " [-9.10104044e-01 -7.71063077e-01]\n",
            " [-1.85411797e-01 -4.90270342e-01]\n",
            " [-3.21617491e-02  2.68955231e-01]\n",
            " [-8.37516083e-01  6.80106332e-01]\n",
            " [-7.17829061e-01  8.98989941e-02]\n",
            " [ 3.48942303e+00 -3.10942808e-01]\n",
            " [ 1.66208406e-01 -4.97052775e-01]\n",
            " [ 2.83916475e-01 -6.48707982e-01]\n",
            " [-8.34824708e-01  7.33498571e-02]\n",
            " [-2.53566906e-01  6.57859951e-01]\n",
            " [-8.28729535e-01  3.52786105e-01]\n",
            " [-8.38624296e-01  1.48301077e+00]\n",
            " [-1.44303386e-02 -5.62706729e-01]\n",
            " [ 4.58089624e-02  7.21343525e-01]\n",
            " [ 5.57724283e-01 -4.10508928e-01]\n",
            " [ 1.92963838e-01 -4.74942043e-01]\n",
            " [ 4.78407884e-01 -6.39755170e-01]\n",
            " [-6.85744671e-02 -6.78686337e-01]\n",
            " [-6.54873019e-02 -4.44285445e-01]\n",
            " [-3.96605562e-01 -2.59938911e-01]\n",
            " [ 6.37119840e-01 -5.29744104e-01]\n",
            " [-2.96233113e-01 -4.68295259e-01]\n",
            " [ 4.08432139e-01 -6.23477330e-01]\n",
            " [-6.31705068e-01 -3.47567948e-01]\n",
            " [ 1.67579460e-02 -7.58990346e-01]\n",
            " [-6.57247762e-02  6.74544736e-01]\n",
            " [ 1.90372832e+00 -5.63520621e-01]\n",
            " [ 5.08485419e+00 -3.15147917e-01]\n",
            " [ 5.71418632e-01 -5.36662185e-01]\n",
            " [ 7.49207685e-01  1.96247547e-01]\n",
            " [-9.38838428e-01  4.13828004e-01]\n",
            " [ 2.39941624e+00 -6.60645064e-01]\n",
            " [-3.84019427e-01 -4.56900771e-01]\n",
            " [-7.83609428e-01 -7.06358664e-01]\n",
            " [ 2.29772347e-01 -5.10617642e-01]\n",
            " [-2.03143208e-01 -6.44909819e-01]\n",
            " [-3.65100645e-01 -5.30964942e-01]\n",
            " [-4.51224639e-01 -6.11404599e-01]\n",
            " [-5.83814427e-01  3.77474162e-01]\n",
            " [-7.05559559e-01  3.09785479e-01]\n",
            " [ 1.21642406e-01 -2.08799364e-01]\n",
            " [-5.23495968e-01 -1.10861029e-01]\n",
            " [ 4.45082332e-01 -2.05679445e-01]\n",
            " [ 1.45482283e+00  1.01136037e+00]\n",
            " [ 1.98177819e+00  1.83903518e-01]\n",
            " [-1.26280709e-01 -5.69760459e-01]\n",
            " [ 5.40388663e-01 -2.87475589e-01]\n",
            " [ 7.94644425e-01  3.51022672e-01]\n",
            " [-3.34941415e-01 -5.23639914e-01]\n",
            " [-2.21428725e-01 -3.28712783e-01]\n",
            " [-4.80988078e-01 -7.07036908e-01]\n",
            " [ 1.56825637e+00 -5.91871192e-01]\n",
            " [ 3.34419332e-01 -5.38696915e-01]\n",
            " [-8.47885791e-01 -3.34816973e-01]\n",
            " [ 5.41417718e-01 -6.00281409e-01]\n",
            " [-6.75796120e-01  4.68494416e-01]\n",
            " [-9.00684233e-01 -7.78795051e-01]\n",
            " [-7.92475133e-01  6.63828492e-01]\n",
            " [-6.46745103e-01 -6.85386456e-02]\n",
            " [ 4.56956044e-01 -6.00959652e-01]\n",
            " [-7.23449285e-01  1.04955996e-01]\n",
            " [-9.21819441e-01  2.58781581e-01]\n",
            " [-8.13372867e-01 -2.91002455e-01]\n",
            " [ 3.43310404e-02 -7.13005449e-01]\n",
            " [ 2.51461661e-01 -5.11702831e-01]\n",
            " [-5.12097205e-01  1.34695516e+00]\n",
            " [-5.36398736e-01  2.45081066e-01]\n",
            " [ 2.86132901e-01  9.30106820e-01]\n",
            " [-5.68220285e-01  1.25438944e-01]\n",
            " [-7.18304010e-01 -3.52858246e-01]\n",
            " [-4.90091258e-01 -6.86553959e-01]\n",
            " [-5.21358700e-01 -6.88995635e-01]\n",
            " [-9.29339458e-01  3.90496434e-01]\n",
            " [-9.34088943e-01  2.72189002e+00]\n",
            " [-8.74324591e-01 -4.30366967e-02]\n",
            " [-9.09233305e-01  2.55119067e-01]\n",
            " [-9.27281348e-01 -6.22392141e-01]\n",
            " [-7.64453172e-01  2.77908043e-01]\n",
            " [ 2.66285433e+00  1.57587677e-01]\n",
            " [ 6.00574173e-02  2.08048981e-01]\n",
            " [-7.90233341e-02  1.73458571e-01]\n",
            " [-7.00018493e-01 -1.23205057e-01]\n",
            " [ 2.81567099e-02  3.25196092e-02]\n",
            " [ 7.92773757e+00  3.23260724e+00]\n",
            " [-8.94984851e-01  3.71234323e-01]\n",
            " [ 1.96681731e+00  5.17550306e+00]\n",
            " [-9.24035867e-01 -6.61730254e-01]\n",
            " [-3.03199024e-01  8.84068588e-02]\n",
            " [-7.11733889e-01 -7.15582773e-01]\n",
            " [-7.56933154e-01  2.99204883e-01]\n",
            " [-3.13489575e-01  2.49964418e-01]\n",
            " [-8.83902719e-01  7.84148857e-01]\n",
            " [ 3.90700729e-01  6.15484233e-02]\n",
            " [ 1.28529159e-01 -7.46239371e-01]\n",
            " [-5.13838682e-01 -5.88073029e-01]\n",
            " [-9.35672105e-01 -3.13520133e-01]\n",
            " [-3.87344066e-01 -6.48979279e-01]\n",
            " [ 3.97587482e-01 -8.91572425e-02]\n",
            " [ 1.47421656e+00  1.91635492e-01]\n",
            " [-7.57803893e-01  1.76442842e-01]\n",
            " [-2.48792055e-02 -4.94068505e-01]\n",
            " [-1.84461900e-01 -4.76976773e-01]\n",
            " [-7.07142720e-01  1.00973259e+00]\n",
            " [-5.94975717e-01  1.16694939e+00]\n",
            " [ 1.04510060e+00  7.71940477e-01]\n",
            " [-9.03771398e-01 -6.93336392e-01]\n",
            " [-7.95087350e-01 -6.65392768e-01]\n",
            " [-8.62292562e-01  8.02325778e-01]\n",
            " [-4.45446099e-01 -6.80449769e-01]\n",
            " [-7.48779872e-01 -1.43688005e-01]\n",
            " [-8.28254587e-01 -2.77844534e-01]\n",
            " [-5.10593201e-01  9.40416118e-01]\n",
            " [ 5.19807562e-01 -5.29201509e-01]\n",
            " [ 9.39624432e-03  3.05612833e+00]\n",
            " [-3.72778979e-01 -6.48979279e-01]\n",
            " [-6.87353200e-01  1.09296753e-01]\n",
            " [-7.62949169e-01  1.02378671e-01]\n",
            " [-7.27802980e-01  6.74002142e-01]\n",
            " [-7.49492295e-01  1.46537645e+00]\n",
            " [ 4.78407884e-01 -5.86173948e-01]\n",
            " [-9.48495714e-01  2.31651848e-01]\n",
            " [-6.21018726e-01 -7.36472668e-01]\n",
            " [ 2.18056950e-01 -6.64307578e-01]\n",
            " [-5.22783546e-01  2.31516199e-01]\n",
            " [-5.50884665e-01 -6.35007467e-01]\n",
            " [-7.29069509e-01 -4.43471553e-01]\n",
            " [-3.74124666e-01 -6.96863258e-01]\n",
            " [ 5.38039287e-02 -3.46347110e-01]\n",
            " [ 6.95142715e-01  1.69200128e-02]\n",
            " [-6.29963590e-01 -4.87286072e-01]\n",
            " [-8.01974103e-01 -7.07986448e-01]\n",
            " [-2.64728196e-01 -4.13764496e-01]\n",
            " [-7.34822683e-02  2.61441220e-02]\n",
            " [-7.64374014e-01  6.62200708e-01]\n",
            " [ 1.10518158e+00 -5.44801105e-01]\n",
            " [-8.73612168e-01 -1.10182785e-01]\n",
            " [ 2.85183004e-01 -4.19597388e-01]\n",
            " [-8.04428004e-01  7.91827496e-02]\n",
            " [-2.66390516e-01 -6.75023823e-01]\n",
            " [ 5.29702322e-01 -2.65636155e-01]\n",
            " [-3.67079597e-01 -7.21822612e-01]\n",
            " [ 2.80953426e+00 -4.38045607e-01]\n",
            " [ 7.99156435e-01 -3.01311753e-01]\n",
            " [ 1.02341128e+00 -5.41952483e-01]\n",
            " [ 4.92814655e-01 -6.96863258e-01]\n",
            " [-6.25584529e-02 -3.01176105e-01]\n",
            " [-4.58982131e-01  2.68412636e-01]\n",
            " [-7.07538511e-01  4.85261515e-02]\n",
            " [-2.46600995e-01 -4.56900771e-01]\n",
            " [ 1.24175464e-01 -7.39321290e-01]\n",
            " [ 2.90565754e-01 -7.01664296e-02]\n",
            " [-3.13489575e-01 -2.71469047e-01]\n",
            " [-6.97327118e-01 -5.15907940e-01]\n",
            " [-4.64364881e-01  2.35170482e+00]\n",
            " [-4.25656578e-01 -5.33949212e-01]\n",
            " [ 1.38730099e+00  2.93643288e-01]\n",
            " [-1.28338820e-01  1.65162206e+00]\n",
            " [ 1.55258307e+00 -7.19923531e-01]\n",
            " [-7.18991066e-02 -1.06927218e-01]\n",
            " [-2.79055809e-01 -5.24318157e-01]\n",
            " [ 3.48950219e+00 -1.67290873e-01]\n",
            " [ 3.26168523e+00 -1.13574002e-01]\n",
            " [-2.22220306e-01 -1.23612003e-01]\n",
            " [-3.27896346e-01 -6.35685710e-01]\n",
            " [ 8.91058969e-01 -6.00145760e-01]\n",
            " [-7.79493208e-01 -6.35007467e-01]\n",
            " [-8.64983937e-01  5.26687692e-01]\n",
            " [-4.82175449e-01  2.40515039e+00]\n",
            " [-9.04642137e-01  5.38082180e-01]\n",
            " [ 7.03929262e-01 -6.20493060e-01]\n",
            " [-7.30611113e-03  3.06122965e-01]\n",
            " [ 2.54707143e-01 -7.51258372e-01]\n",
            " [-5.76294410e-01 -6.46266306e-01]\n",
            " [-7.85034274e-01 -1.07062866e-01]\n",
            " [-9.09233305e-01  3.42748104e-01]\n",
            " [ 1.96444257e+00 -3.73205545e-01]\n",
            " [-8.79153234e-01 -5.55246052e-01]\n",
            " [-8.96093064e-01 -5.67861378e-01]\n",
            " [ 1.25866911e+00 -2.77708886e-01]\n",
            " [-2.32669173e-01 -6.73802985e-01]\n",
            " [-2.43250989e-02 -4.71957773e-01]\n",
            " [ 4.24263756e-01  5.47659901e-02]\n",
            " [-6.83474454e-01 -3.95044980e-01]\n",
            " [ 1.88160562e-02  1.77934977e-01]\n",
            " [ 2.93381245e+00 -2.48408774e-01]\n",
            " [ 1.08974576e+00 -2.96157104e-01]\n",
            " [ 4.50810840e+00 -1.87909470e-01]\n",
            " [ 2.23650890e+00 -6.99440582e-01]\n",
            " [-3.84019427e-01 -4.81453179e-01]\n",
            " [ 2.65472642e-01 -5.01122235e-01]\n",
            " [ 3.37189865e-01 -7.05680421e-01]\n",
            " [ 2.43693717e+00 -7.47460209e-01]\n",
            " [-7.35560472e-01 -4.93254613e-01]\n",
            " [-4.73230586e-01 -3.31290108e-01]\n",
            " [-7.25269921e-01 -3.67643950e-01]\n",
            " [-6.33604861e-01  7.19851390e-01]\n",
            " [ 7.34009333e-01 -5.13194967e-01]\n",
            " [-3.49269028e-01 -5.28930212e-01]\n",
            " [ 5.60969765e-01 -6.09369869e-01]\n",
            " [-3.09531671e-01 -3.52315651e-01]\n",
            " [-4.14970237e-01 -1.67697819e-01]\n",
            " [-9.14774371e-01 -6.67020552e-01]\n",
            " [ 3.52071584e-01  6.05988826e-02]\n",
            " [-5.31728409e-01  1.02004188e+00]\n",
            " [-7.21470333e-01 -6.70465103e-02]\n",
            " [-7.44188703e-01 -2.85983454e-01]\n",
            " [-9.37176109e-01  2.25683307e-01]\n",
            " [-9.30685146e-01  9.68902337e-01]\n",
            " [-4.37926081e-01  9.59135634e-01]\n",
            " [ 4.21651539e-01 -4.64225799e-01]\n",
            " [-3.96843036e-01 -6.47894090e-01]\n",
            " [-8.77253440e-01  2.01556743e+00]\n",
            " [-3.93122606e-01 -5.83867921e-01]\n",
            " [ 1.39592922e+00 -4.69516097e-01]\n",
            " [-7.80759737e-01 -2.79336670e-01]\n",
            " [-1.75437879e-01 -6.60780713e-01]\n",
            " [-1.09499196e-01 -5.42766375e-01]\n",
            " [-8.32845756e-01  1.24603256e+00]\n",
            " [-3.85760905e-01 -5.99738814e-01]\n",
            " [-8.56355706e-01 -3.67372653e-01]\n",
            " [-1.58551841e-02 -4.18240902e-01]\n",
            " [-1.77416831e-01  2.61459193e+00]\n",
            " [-8.09494121e-01 -2.84898265e-01]\n",
            " [-2.25228313e-01 -5.28930212e-01]\n",
            " [ 3.07188951e-01 -6.89538230e-01]\n",
            " [ 1.07631425e-01 -6.58203388e-01]\n",
            " [ 1.10636895e+00 -2.99683969e-01]\n",
            " [ 1.63989443e+00  1.49047145e+00]\n",
            " [-6.00516783e-01 -5.67861378e-01]\n",
            " [-9.07016879e-01 -6.64307578e-01]\n",
            " [ 3.90463254e-01 -4.86607828e-01]\n",
            " [-5.45185283e-01 -5.84681812e-01]\n",
            " [-1.74962930e-01 -5.43987213e-01]\n",
            " [-6.15293978e-02  1.23233204e+00]\n",
            " [ 8.16967004e-01 -3.50009624e-01]\n",
            " [-2.71931582e-01 -1.10725380e-01]\n",
            " [ 3.81755865e-01 -6.60373767e-01]\n",
            " [ 1.19383864e+00  1.38461216e-01]\n",
            " [ 1.55917855e-01 -5.81290596e-01]\n",
            " [-2.09713329e-01 -6.03536977e-01]\n",
            " [-9.49683086e-01 -7.41084722e-01]\n",
            " [-7.42763858e-01 -6.25105114e-01]\n",
            " [-9.19761330e-01 -2.40269854e-01]\n",
            " [-7.66273808e-01 -4.51247613e-03]\n",
            " [-9.29735249e-01 -5.19071945e-03]\n",
            " [-8.16222558e-01  1.58401569e-01]\n",
            " [-7.09042514e-01 -6.27275493e-01]\n",
            " [-8.55089177e-01 -4.33297903e-01]\n",
            " [-7.30573513e-01  1.55010353e-01]\n",
            " [ 1.21742774e+00  1.88244276e-01]\n",
            " [-6.78566652e-01 -4.63411907e-01]\n",
            " [-4.76476067e-01  1.19977636e+00]\n",
            " [-6.71204951e-01 -6.37177845e-01]\n",
            " [-8.54139280e-01  5.76199455e-01]\n",
            " [-9.01792446e-01 -6.36228305e-01]\n",
            " [-9.40659064e-01  6.34475046e-02]\n",
            " [ 1.61379763e-01  2.16594846e-01]\n",
            " [-9.34880524e-01 -6.87639149e-01]\n",
            " [ 8.45859704e-01 -7.68078806e-01]\n",
            " [-9.46991711e-01 -6.13303681e-01]\n",
            " [-8.89839575e-01  1.74549094e+00]\n",
            " [-8.86910726e-01  1.10871202e-02]\n",
            " [ 6.13134941e-01 -3.96672764e-01]\n",
            " [-5.75186196e-01 -7.03916988e-01]\n",
            " [-7.82026267e-01 -5.69082216e-01]\n",
            " [-5.83656111e-01 -6.51014009e-01]\n",
            " [-7.42922174e-01 -6.67834444e-01]\n",
            " [-5.78510836e-01  4.49992863e-02]\n",
            " [-1.93090131e-01 -4.85522639e-01]\n",
            " [-6.74687906e-01 -6.64985822e-01]\n",
            " [ 8.18075217e-01 -6.24019925e-01]\n",
            " [-4.58269708e-01 -7.40542128e-01]\n",
            " [ 2.19099300e+00 -2.51257396e-01]\n",
            " [ 6.41552693e-01 -5.30286698e-01]\n",
            " [-6.42470567e-01 -2.70655155e-01]\n",
            " [ 2.43466695e-01  6.24979639e-02]\n",
            " [-4.48216632e-01 -4.80232341e-01]\n",
            " [-4.87558199e-01 -5.89565164e-01]\n",
            " [-7.01680813e-01  3.84392244e-01]\n",
            " [ 2.12085894e+00 -3.58419841e-01]\n",
            " [-6.94635743e-01 -3.39429028e-01]\n",
            " [-6.29488641e-01 -8.57660259e-02]\n",
            " [ 1.28684938e+00 -6.58203388e-01]\n",
            " [ 4.56718570e-01 -1.63492710e-01]\n",
            " [ 1.77739202e+00  2.22292090e-01]\n",
            " [-8.05773691e-01 -6.01230950e-01]\n",
            " [-1.04274762e-01  2.17875277e+00]\n",
            " [-2.89162677e-02 -6.61187659e-01]\n",
            " [-8.54455912e-01 -2.95207563e-01]\n",
            " [ 7.05908214e-01 -5.26352887e-01]\n",
            " [-1.75358721e-01 -6.71225660e-01]\n",
            " [-2.07021954e-01 -5.78713271e-01]\n",
            " [-6.84582667e-01 -6.26054655e-01]\n",
            " [-7.40389115e-01 -4.11729766e-01]\n",
            " [-9.08916673e-01 -2.19244311e-01]\n",
            " [ 9.20743251e-01  1.26659782e-01]\n",
            " [ 2.98190297e-02 -6.68919633e-01]\n",
            " [-1.89844650e-01 -6.07742085e-01]\n",
            " [-5.92521817e-01  8.40307404e-01]\n",
            " [-3.68320760e-02 -5.60265053e-01]\n",
            " [-4.41937777e-02 -6.46266306e-01]\n",
            " [-1.89053069e-01 -7.07986448e-01]\n",
            " [-5.97983724e-01 -6.63358038e-01]\n",
            " [ 1.20056707e+00 -4.06303819e-01]\n",
            " [ 1.15085580e+00 -1.41517627e-01]\n",
            " [ 1.07700131e+00  7.06693470e-01]\n",
            " [ 4.80703469e-01 -1.60508440e-01]\n",
            " [-4.04996319e-01 -6.44367225e-01]\n",
            " [ 1.03425594e+00 -1.06655920e-01]\n",
            " [-3.67158755e-01  9.56015714e-01]\n",
            " [-2.96312271e-01 -2.59938911e-01]\n",
            " [-2.60611976e-01 -2.93308482e-01]\n",
            " [-4.24864997e-01 -5.01936127e-01]\n",
            " [-7.81630476e-01 -3.40107271e-01]\n",
            " [-9.42242226e-01 -2.97242293e-01]\n",
            " [-5.55475834e-01 -1.27138868e-01]\n",
            " [-4.77425964e-01 -5.16314886e-01]\n",
            " [-3.29162875e-01  3.38760958e-02]\n",
            " [-6.02495735e-01  6.97740658e-01]\n",
            " [-5.48984871e-01 -4.03237235e-02]\n",
            " [-8.97676225e-01  3.65944026e-01]\n",
            " [-2.48500789e-01 -2.73096831e-01]\n",
            " [-5.97192143e-01 -7.19298622e-02]\n",
            " [ 4.00753805e-01 -1.28766652e-01]\n",
            " [ 1.13985282e+00 -5.99467517e-01]\n",
            " [ 4.40491163e-01 -2.86254751e-01]\n",
            " [ 3.94183684e-01 -3.95044980e-01]\n",
            " [-5.99462361e-02 -4.59613744e-01]\n",
            " [ 8.97416983e-02  4.81652336e-01]\n",
            " [ 1.50492990e+00  1.47731353e+00]\n",
            " [-7.08725882e-01  2.35667973e-02]\n",
            " [-2.68606942e-01 -5.48870565e-01]\n",
            " [-7.04767978e-01 -2.12461878e-01]\n",
            " [-2.74464640e-01 -3.93741828e-02]\n",
            " [ 7.21660672e-01 -6.28631980e-01]\n",
            " [-7.93029240e-01 -3.49738326e-01]\n",
            " [ 3.74473322e-01 -2.54241667e-01]\n",
            " [ 1.40131197e+00  8.48446324e-01]\n",
            " [ 2.15529271e+00 -5.92142489e-01]\n",
            " [ 2.00325540e-01  1.31467078e+00]\n",
            " [-1.35383889e-01 -5.17535724e-01]\n",
            " [-7.29306983e-01 -5.55924296e-01]]\n"
          ],
          "name": "stdout"
        }
      ]
    },
    {
      "cell_type": "code",
      "metadata": {
        "id": "QnJHjmaQh_Ot",
        "colab": {
          "base_uri": "https://localhost:8080/"
        },
        "outputId": "e6469f4d-eebc-4dc8-95e5-eda0ec8ef557"
      },
      "source": [
        "dataset.isnull().sum()"
      ],
      "execution_count": 20,
      "outputs": [
        {
          "output_type": "execute_result",
          "data": {
            "text/plain": [
              "Channel             0\n",
              "Region              0\n",
              "Fresh               0\n",
              "Milk                0\n",
              "Grocery             0\n",
              "Frozen              0\n",
              "Detergents_Paper    0\n",
              "Delicassen          0\n",
              "dtype: int64"
            ]
          },
          "metadata": {
            "tags": []
          },
          "execution_count": 20
        }
      ]
    },
    {
      "cell_type": "code",
      "metadata": {
        "id": "9w30eCaph7gn"
      },
      "source": [
        "# Using the elbow method to find the optimal number of clusters\n",
        "from sklearn.cluster import KMeans\n",
        "wcss = []\n",
        "for i in range(1, 11):\n",
        "    kmeans = KMeans(n_clusters = i, init = 'k-means++', random_state = 42)\n",
        "    kmeans.fit(X)\n",
        "    wcss.append(kmeans.inertia_)"
      ],
      "execution_count": 21,
      "outputs": []
    },
    {
      "cell_type": "code",
      "metadata": {
        "colab": {
          "base_uri": "https://localhost:8080/"
        },
        "id": "62DaWvLY1AqR",
        "outputId": "a6056779-bbb0-46dc-ae77-c62e9baa93a6"
      },
      "source": [
        "wcss"
      ],
      "execution_count": 22,
      "outputs": [
        {
          "output_type": "execute_result",
          "data": {
            "text/plain": [
              "[880.0,\n",
              " 598.1006361673309,\n",
              " 383.9852027517867,\n",
              " 274.43659814477655,\n",
              " 205.91452100720895,\n",
              " 168.37678943512253,\n",
              " 133.1320100027759,\n",
              " 110.19444463183096,\n",
              " 96.28130292646202,\n",
              " 84.01317654193201]"
            ]
          },
          "metadata": {
            "tags": []
          },
          "execution_count": 22
        }
      ]
    },
    {
      "cell_type": "code",
      "metadata": {
        "id": "rguJ7ORO1VcX",
        "colab": {
          "base_uri": "https://localhost:8080/",
          "height": 295
        },
        "outputId": "45cd591c-d0c6-4966-d510-1407966deb19"
      },
      "source": [
        "plt.plot(range(1, 11), wcss)\n",
        "\n",
        "plt.title('The Elbow Method')\n",
        "plt.xlabel('Number of clusters')\n",
        "plt.ylabel('WCSS')\n",
        "plt.show()\n"
      ],
      "execution_count": 23,
      "outputs": [
        {
          "output_type": "display_data",
          "data": {
            "image/png": "[encoded data removed]",
            "text/plain": [
              "<Figure size 432x288 with 1 Axes>"
            ]
          },
          "metadata": {
            "tags": [],
            "needs_background": "light"
          }
        }
      ]
    },
    {
      "cell_type": "code",
      "metadata": {
        "id": "F-X2cb2k4tiB",
        "colab": {
          "base_uri": "https://localhost:8080/"
        },
        "outputId": "40574f37-e68c-4cd8-fd62-a8eed3b50e85"
      },
      "source": [
        "# Fitting K-Means to the dataset\n",
        "kmeans = KMeans(n_clusters = 5, init = 'k-means++', random_state = 42)\n",
        "print(kmeans)\n",
        "y_kmeans = kmeans.fit_predict(X)\n"
      ],
      "execution_count": 24,
      "outputs": [
        {
          "output_type": "stream",
          "text": [
            "KMeans(algorithm='auto', copy_x=True, init='k-means++', max_iter=300,\n",
            "       n_clusters=5, n_init=10, n_jobs=None, precompute_distances='auto',\n",
            "       random_state=42, tol=0.0001, verbose=0)\n"
          ],
          "name": "stdout"
        }
      ]
    },
    {
      "cell_type": "code",
      "metadata": {
        "colab": {
          "base_uri": "https://localhost:8080/"
        },
        "id": "SMcrx7Ij3OFh",
        "outputId": "ec9928c4-cafd-4047-90d5-d9d02add9214"
      },
      "source": [
        "y_kmeans"
      ],
      "execution_count": 25,
      "outputs": [
        {
          "output_type": "execute_result",
          "data": {
            "text/plain": [
              "array([0, 0, 2, 2, 3, 2, 2, 2, 2, 0, 2, 2, 3, 3, 3, 2, 2, 2, 3, 2, 3, 2,\n",
              "       3, 4, 3, 3, 2, 3, 0, 1, 3, 2, 3, 3, 2, 2, 3, 0, 0, 1, 3, 3, 2, 0,\n",
              "       2, 0, 0, 4, 2, 0, 2, 2, 1, 0, 3, 2, 0, 0, 3, 2, 2, 4, 2, 0, 2, 0,\n",
              "       2, 3, 2, 2, 3, 3, 2, 3, 2, 3, 2, 0, 2, 2, 2, 0, 0, 3, 2, 4, 4, 1,\n",
              "       2, 3, 2, 2, 0, 2, 0, 2, 2, 2, 2, 2, 2, 0, 2, 1, 3, 3, 2, 0, 2, 0,\n",
              "       2, 0, 3, 3, 3, 2, 2, 2, 3, 2, 3, 2, 2, 0, 1, 1, 3, 3, 2, 1, 2, 2,\n",
              "       3, 2, 2, 2, 2, 2, 3, 2, 3, 3, 1, 2, 3, 3, 2, 2, 2, 3, 3, 2, 3, 0,\n",
              "       2, 0, 2, 3, 2, 2, 2, 2, 3, 0, 2, 0, 2, 2, 2, 2, 2, 0, 2, 2, 2, 2,\n",
              "       1, 2, 2, 2, 2, 1, 2, 4, 2, 2, 2, 2, 2, 0, 3, 2, 2, 2, 2, 3, 3, 2,\n",
              "       2, 2, 0, 0, 3, 2, 2, 0, 2, 2, 2, 0, 3, 0, 2, 2, 2, 0, 0, 3, 2, 2,\n",
              "       3, 2, 2, 2, 2, 2, 3, 2, 2, 2, 2, 0, 3, 2, 3, 2, 2, 3, 2, 1, 3, 3,\n",
              "       3, 2, 2, 2, 2, 2, 3, 2, 2, 0, 2, 3, 0, 3, 2, 2, 1, 1, 2, 2, 3, 2,\n",
              "       0, 0, 0, 3, 2, 3, 2, 2, 2, 1, 2, 2, 3, 2, 2, 3, 2, 2, 1, 3, 1, 1,\n",
              "       2, 3, 3, 1, 2, 2, 2, 0, 3, 2, 3, 2, 2, 2, 3, 0, 2, 2, 2, 0, 0, 3,\n",
              "       2, 0, 2, 3, 2, 2, 2, 0, 2, 2, 2, 0, 2, 2, 3, 2, 3, 3, 2, 2, 3, 2,\n",
              "       2, 0, 3, 2, 3, 3, 3, 2, 2, 2, 2, 2, 2, 2, 2, 2, 2, 3, 2, 0, 2, 0,\n",
              "       2, 2, 3, 2, 3, 2, 0, 2, 3, 2, 2, 2, 2, 2, 2, 2, 3, 2, 1, 3, 2, 3,\n",
              "       2, 2, 2, 1, 2, 2, 3, 3, 3, 2, 0, 2, 2, 3, 2, 2, 2, 2, 2, 3, 2, 2,\n",
              "       0, 2, 2, 2, 2, 3, 3, 3, 3, 2, 3, 0, 2, 2, 2, 2, 2, 2, 2, 2, 0, 2,\n",
              "       2, 2, 2, 3, 3, 3, 3, 2, 0, 3, 2, 2, 2, 2, 3, 2, 3, 3, 1, 0, 2, 2],\n",
              "      dtype=int32)"
            ]
          },
          "metadata": {
            "tags": []
          },
          "execution_count": 25
        }
      ]
    },
    {
      "cell_type": "markdown",
      "metadata": {
        "id": "1KokWIDhf4RY"
      },
      "source": [
        "kmeans++\n",
        "1). Randomly select the first centroid from the data points.\n",
        "2). For each data point compute its distance from the nearest, previously choosen centroid.\n",
        "3). Select the next centroid from the data points such that the probability of choosing a point as centroid is directly proportional to its distance from the nearest, previously chosen centroid. (i.e. the point having maximum distance from the nearest centroid is most likely to be selected next as a centroid)\n",
        "4)Repeat steps 2 and 3 untill k centroids have been sampled"
      ]
    },
    {
      "cell_type": "code",
      "metadata": {
        "id": "APw-A8nUG2E4",
        "colab": {
          "base_uri": "https://localhost:8080/"
        },
        "outputId": "e82f1518-6f5d-4bae-9635-49500e92e206"
      },
      "source": [
        "print(\"Within cluster sum of square when k=5\", kmeans.inertia_)"
      ],
      "execution_count": 26,
      "outputs": [
        {
          "output_type": "stream",
          "text": [
            "Within cluster sum of square when k=5 205.91452100720895\n"
          ],
          "name": "stdout"
        }
      ]
    },
    {
      "cell_type": "code",
      "metadata": {
        "id": "MmxwtPuFcHPG",
        "colab": {
          "base_uri": "https://localhost:8080/"
        },
        "outputId": "5ab9d1da-dfc9-4dd9-fa3d-23f8f78e71dd"
      },
      "source": [
        "print(\"center of Cluster are\", kmeans.cluster_centers_ )"
      ],
      "execution_count": 27,
      "outputs": [
        {
          "output_type": "stream",
          "text": [
            "center of Cluster are [[-0.50404644  1.2149957 ]\n",
            " [ 3.01191629 -0.18297063]\n",
            " [-0.50584078 -0.32523504]\n",
            " [ 0.72818242 -0.24114403]\n",
            " [ 1.46004727  5.83104784]]\n"
          ],
          "name": "stdout"
        }
      ]
    },
    {
      "cell_type": "code",
      "metadata": {
        "id": "EqxExfmLc8zh",
        "colab": {
          "base_uri": "https://localhost:8080/"
        },
        "outputId": "29ca1d8a-3528-4b30-eebb-ad5882291285"
      },
      "source": [
        "print(\"Number of iterations\", kmeans.n_iter_) "
      ],
      "execution_count": 28,
      "outputs": [
        {
          "output_type": "stream",
          "text": [
            "Number of iterations 11\n"
          ],
          "name": "stdout"
        }
      ]
    },
    {
      "cell_type": "code",
      "metadata": {
        "id": "52uWuC-2u5qK",
        "colab": {
          "base_uri": "https://localhost:8080/"
        },
        "outputId": "dda14194-03fc-4e81-f829-03d517f5b26e"
      },
      "source": [
        "print(X[:,0])"
      ],
      "execution_count": 29,
      "outputs": [
        {
          "output_type": "stream",
          "text": [
            "[ 5.29331898e-02 -3.91301970e-01 -4.47029261e-01  1.00111407e-01\n",
            "  8.40239480e-01 -2.04805527e-01  9.95035090e-03 -3.49981451e-01\n",
            " -4.77900913e-01 -4.74497115e-01 -6.83474454e-01  9.06915953e-02\n",
            "  1.56049887e+00  7.29576481e-01  1.00156365e+00 -1.38312738e-01\n",
            " -8.69179316e-01 -4.84787666e-01  5.22498936e-01 -3.34070677e-01\n",
            "  4.38987159e-01 -5.09247514e-01  1.52582763e+00  1.13771556e+00\n",
            "  8.42772539e-01  3.29669847e-01 -1.66413857e-01  1.80140229e-01\n",
            " -6.24343366e-01  2.46084291e+00  5.39438766e-01 -7.43159648e-01\n",
            "  7.62427085e-01  1.40337008e+00 -8.31025120e-01 -8.95459799e-01\n",
            "  1.42125981e+00  2.50749238e-01 -5.86505802e-01  3.49551821e+00\n",
            "  9.51852377e-01  5.68014834e-01 -9.10553626e-02 -9.00050968e-01\n",
            " -1.84461900e-01 -5.39802533e-01 -7.04293029e-01  2.56992275e+00\n",
            " -3.80986053e-02 -5.56742363e-01 -4.53678540e-01 -6.84978457e-01\n",
            "  2.27347573e+00 -9.11053941e-01  1.21339068e+00 -5.33232413e-01\n",
            " -6.25530737e-01 -5.21121226e-01  1.40798662e-01 -4.64127406e-01\n",
            " -2.69952630e-01  1.89517925e+00 -3.30666879e-01 -2.06151215e-01\n",
            " -5.73128086e-01 -9.43192123e-01 -9.49208137e-01  6.26354341e-01\n",
            " -7.56299890e-01 -2.88792253e-01  3.72415212e-01  4.97959931e-01\n",
            " -6.00041834e-01  6.25246128e-01 -3.01615863e-01  6.64746011e-01\n",
            " -8.93164215e-01  1.62038394e-02 -9.77046416e-02 -8.20101304e-01\n",
            " -3.95418191e-01 -9.32584940e-01 -1.29684507e-01  7.02425258e-01\n",
            " -1.05515925e-02  3.25870259e-01  8.64778486e-01  2.47485389e+00\n",
            " -3.27421398e-01  1.02143233e+00 -4.71226267e-02  5.96616268e-02\n",
            " -2.21824515e-01 -5.43260123e-02 -5.04577187e-01 -9.49683086e-01\n",
            " -9.48099924e-01 -9.18019853e-01 -9.10104044e-01 -1.85411797e-01\n",
            " -3.21617491e-02 -8.37516083e-01 -7.17829061e-01  3.48942303e+00\n",
            "  1.66208406e-01  2.83916475e-01 -8.34824708e-01 -2.53566906e-01\n",
            " -8.28729535e-01 -8.38624296e-01 -1.44303386e-02  4.58089624e-02\n",
            "  5.57724283e-01  1.92963838e-01  4.78407884e-01 -6.85744671e-02\n",
            " -6.54873019e-02 -3.96605562e-01  6.37119840e-01 -2.96233113e-01\n",
            "  4.08432139e-01 -6.31705068e-01  1.67579460e-02 -6.57247762e-02\n",
            "  1.90372832e+00  5.08485419e+00  5.71418632e-01  7.49207685e-01\n",
            " -9.38838428e-01  2.39941624e+00 -3.84019427e-01 -7.83609428e-01\n",
            "  2.29772347e-01 -2.03143208e-01 -3.65100645e-01 -4.51224639e-01\n",
            " -5.83814427e-01 -7.05559559e-01  1.21642406e-01 -5.23495968e-01\n",
            "  4.45082332e-01  1.45482283e+00  1.98177819e+00 -1.26280709e-01\n",
            "  5.40388663e-01  7.94644425e-01 -3.34941415e-01 -2.21428725e-01\n",
            " -4.80988078e-01  1.56825637e+00  3.34419332e-01 -8.47885791e-01\n",
            "  5.41417718e-01 -6.75796120e-01 -9.00684233e-01 -7.92475133e-01\n",
            " -6.46745103e-01  4.56956044e-01 -7.23449285e-01 -9.21819441e-01\n",
            " -8.13372867e-01  3.43310404e-02  2.51461661e-01 -5.12097205e-01\n",
            " -5.36398736e-01  2.86132901e-01 -5.68220285e-01 -7.18304010e-01\n",
            " -4.90091258e-01 -5.21358700e-01 -9.29339458e-01 -9.34088943e-01\n",
            " -8.74324591e-01 -9.09233305e-01 -9.27281348e-01 -7.64453172e-01\n",
            "  2.66285433e+00  6.00574173e-02 -7.90233341e-02 -7.00018493e-01\n",
            "  2.81567099e-02  7.92773757e+00 -8.94984851e-01  1.96681731e+00\n",
            " -9.24035867e-01 -3.03199024e-01 -7.11733889e-01 -7.56933154e-01\n",
            " -3.13489575e-01 -8.83902719e-01  3.90700729e-01  1.28529159e-01\n",
            " -5.13838682e-01 -9.35672105e-01 -3.87344066e-01  3.97587482e-01\n",
            "  1.47421656e+00 -7.57803893e-01 -2.48792055e-02 -1.84461900e-01\n",
            " -7.07142720e-01 -5.94975717e-01  1.04510060e+00 -9.03771398e-01\n",
            " -7.95087350e-01 -8.62292562e-01 -4.45446099e-01 -7.48779872e-01\n",
            " -8.28254587e-01 -5.10593201e-01  5.19807562e-01  9.39624432e-03\n",
            " -3.72778979e-01 -6.87353200e-01 -7.62949169e-01 -7.27802980e-01\n",
            " -7.49492295e-01  4.78407884e-01 -9.48495714e-01 -6.21018726e-01\n",
            "  2.18056950e-01 -5.22783546e-01 -5.50884665e-01 -7.29069509e-01\n",
            " -3.74124666e-01  5.38039287e-02  6.95142715e-01 -6.29963590e-01\n",
            " -8.01974103e-01 -2.64728196e-01 -7.34822683e-02 -7.64374014e-01\n",
            "  1.10518158e+00 -8.73612168e-01  2.85183004e-01 -8.04428004e-01\n",
            " -2.66390516e-01  5.29702322e-01 -3.67079597e-01  2.80953426e+00\n",
            "  7.99156435e-01  1.02341128e+00  4.92814655e-01 -6.25584529e-02\n",
            " -4.58982131e-01 -7.07538511e-01 -2.46600995e-01  1.24175464e-01\n",
            "  2.90565754e-01 -3.13489575e-01 -6.97327118e-01 -4.64364881e-01\n",
            " -4.25656578e-01  1.38730099e+00 -1.28338820e-01  1.55258307e+00\n",
            " -7.18991066e-02 -2.79055809e-01  3.48950219e+00  3.26168523e+00\n",
            " -2.22220306e-01 -3.27896346e-01  8.91058969e-01 -7.79493208e-01\n",
            " -8.64983937e-01 -4.82175449e-01 -9.04642137e-01  7.03929262e-01\n",
            " -7.30611113e-03  2.54707143e-01 -5.76294410e-01 -7.85034274e-01\n",
            " -9.09233305e-01  1.96444257e+00 -8.79153234e-01 -8.96093064e-01\n",
            "  1.25866911e+00 -2.32669173e-01 -2.43250989e-02  4.24263756e-01\n",
            " -6.83474454e-01  1.88160562e-02  2.93381245e+00  1.08974576e+00\n",
            "  4.50810840e+00  2.23650890e+00 -3.84019427e-01  2.65472642e-01\n",
            "  3.37189865e-01  2.43693717e+00 -7.35560472e-01 -4.73230586e-01\n",
            " -7.25269921e-01 -6.33604861e-01  7.34009333e-01 -3.49269028e-01\n",
            "  5.60969765e-01 -3.09531671e-01 -4.14970237e-01 -9.14774371e-01\n",
            "  3.52071584e-01 -5.31728409e-01 -7.21470333e-01 -7.44188703e-01\n",
            " -9.37176109e-01 -9.30685146e-01 -4.37926081e-01  4.21651539e-01\n",
            " -3.96843036e-01 -8.77253440e-01 -3.93122606e-01  1.39592922e+00\n",
            " -7.80759737e-01 -1.75437879e-01 -1.09499196e-01 -8.32845756e-01\n",
            " -3.85760905e-01 -8.56355706e-01 -1.58551841e-02 -1.77416831e-01\n",
            " -8.09494121e-01 -2.25228313e-01  3.07188951e-01  1.07631425e-01\n",
            "  1.10636895e+00  1.63989443e+00 -6.00516783e-01 -9.07016879e-01\n",
            "  3.90463254e-01 -5.45185283e-01 -1.74962930e-01 -6.15293978e-02\n",
            "  8.16967004e-01 -2.71931582e-01  3.81755865e-01  1.19383864e+00\n",
            "  1.55917855e-01 -2.09713329e-01 -9.49683086e-01 -7.42763858e-01\n",
            " -9.19761330e-01 -7.66273808e-01 -9.29735249e-01 -8.16222558e-01\n",
            " -7.09042514e-01 -8.55089177e-01 -7.30573513e-01  1.21742774e+00\n",
            " -6.78566652e-01 -4.76476067e-01 -6.71204951e-01 -8.54139280e-01\n",
            " -9.01792446e-01 -9.40659064e-01  1.61379763e-01 -9.34880524e-01\n",
            "  8.45859704e-01 -9.46991711e-01 -8.89839575e-01 -8.86910726e-01\n",
            "  6.13134941e-01 -5.75186196e-01 -7.82026267e-01 -5.83656111e-01\n",
            " -7.42922174e-01 -5.78510836e-01 -1.93090131e-01 -6.74687906e-01\n",
            "  8.18075217e-01 -4.58269708e-01  2.19099300e+00  6.41552693e-01\n",
            " -6.42470567e-01  2.43466695e-01 -4.48216632e-01 -4.87558199e-01\n",
            " -7.01680813e-01  2.12085894e+00 -6.94635743e-01 -6.29488641e-01\n",
            "  1.28684938e+00  4.56718570e-01  1.77739202e+00 -8.05773691e-01\n",
            " -1.04274762e-01 -2.89162677e-02 -8.54455912e-01  7.05908214e-01\n",
            " -1.75358721e-01 -2.07021954e-01 -6.84582667e-01 -7.40389115e-01\n",
            " -9.08916673e-01  9.20743251e-01  2.98190297e-02 -1.89844650e-01\n",
            " -5.92521817e-01 -3.68320760e-02 -4.41937777e-02 -1.89053069e-01\n",
            " -5.97983724e-01  1.20056707e+00  1.15085580e+00  1.07700131e+00\n",
            "  4.80703469e-01 -4.04996319e-01  1.03425594e+00 -3.67158755e-01\n",
            " -2.96312271e-01 -2.60611976e-01 -4.24864997e-01 -7.81630476e-01\n",
            " -9.42242226e-01 -5.55475834e-01 -4.77425964e-01 -3.29162875e-01\n",
            " -6.02495735e-01 -5.48984871e-01 -8.97676225e-01 -2.48500789e-01\n",
            " -5.97192143e-01  4.00753805e-01  1.13985282e+00  4.40491163e-01\n",
            "  3.94183684e-01 -5.99462361e-02  8.97416983e-02  1.50492990e+00\n",
            " -7.08725882e-01 -2.68606942e-01 -7.04767978e-01 -2.74464640e-01\n",
            "  7.21660672e-01 -7.93029240e-01  3.74473322e-01  1.40131197e+00\n",
            "  2.15529271e+00  2.00325540e-01 -1.35383889e-01 -7.29306983e-01]\n"
          ],
          "name": "stdout"
        }
      ]
    },
    {
      "cell_type": "code",
      "metadata": {
        "id": "t6klJqy9536e",
        "colab": {
          "base_uri": "https://localhost:8080/",
          "height": 295
        },
        "outputId": "bb7ff255-97a3-4dbd-ed8e-6dd114b6e397"
      },
      "source": [
        "# Visualising the clusters\n",
        "plt.scatter(X[:,0], X[:,1], s = 100, c = 'black', label = 'Data Distribution')\n",
        "plt.title('Customer Distribution before clustering')\n",
        "plt.xlabel('Annual Income (k$)')\n",
        "plt.ylabel('Spending Score (1-100)')\n",
        "plt.legend()\n",
        "plt.show()"
      ],
      "execution_count": 30,
      "outputs": [
        {
          "output_type": "display_data",
          "data": {
            "image/png": "[encoded data removed]",
            "text/plain": [
              "<Figure size 432x288 with 1 Axes>"
            ]
          },
          "metadata": {
            "tags": [],
            "needs_background": "light"
          }
        }
      ]
    },
    {
      "cell_type": "code",
      "metadata": {
        "id": "AaaKFv_Xnzqd",
        "colab": {
          "base_uri": "https://localhost:8080/"
        },
        "outputId": "7796669b-4a8f-46a1-c2b1-4f25fdb8cdd1"
      },
      "source": [
        "frame = pd.DataFrame(X)\n",
        "frame['cluster'] = y_kmeans\n",
        "frame['cluster'].value_counts()"
      ],
      "execution_count": 31,
      "outputs": [
        {
          "output_type": "execute_result",
          "data": {
            "text/plain": [
              "2    243\n",
              "3    108\n",
              "0     61\n",
              "1     22\n",
              "4      6\n",
              "Name: cluster, dtype: int64"
            ]
          },
          "metadata": {
            "tags": []
          },
          "execution_count": 31
        }
      ]
    },
    {
      "cell_type": "code",
      "metadata": {
        "id": "xyLCQ3aOoVIn",
        "colab": {
          "base_uri": "https://localhost:8080/"
        },
        "outputId": "09ea07e8-b499-4119-d3b1-eb165b903e29"
      },
      "source": [
        " Annual_Income =  56#@param {type:\"number\"}\n",
        "Spending_Score = 13000 #@param {type:\"number\"}\n",
        "\n",
        "predict= kmeans.predict(ss.transform([[ Annual_Income,Spending_Score ]]))\n",
        "print(predict)\n",
        "if predict==[0]:\n",
        "  print(\"Customer is careless\")\n",
        "\n",
        "elif predict==[1]:\n",
        "  print(\"Customer is standard\")\n",
        "elif predict==[2]:\n",
        "  print(\"Customer is Target\")\n",
        "elif predict==[3]:\n",
        "  print(\"Customer is careful\")\n",
        "\n",
        "else:\n",
        "  print(\"Custmor is sensible\" )\n",
        "\n"
      ],
      "execution_count": 32,
      "outputs": [
        {
          "output_type": "stream",
          "text": [
            "[0]\n",
            "Customer is careless\n"
          ],
          "name": "stdout"
        }
      ]
    },
    {
      "cell_type": "code",
      "metadata": {
        "id": "m9oB2sH5-dco",
        "colab": {
          "base_uri": "https://localhost:8080/"
        },
        "outputId": "f1969044-3b34-453d-fe64-271aa575e3d2"
      },
      "source": [
        "y_kmeans == 4, 1"
      ],
      "execution_count": 33,
      "outputs": [
        {
          "output_type": "execute_result",
          "data": {
            "text/plain": [
              "(array([False, False, False, False, False, False, False, False, False,\n",
              "        False, False, False, False, False, False, False, False, False,\n",
              "        False, False, False, False, False,  True, False, False, False,\n",
              "        False, False, False, False, False, False, False, False, False,\n",
              "        False, False, False, False, False, False, False, False, False,\n",
              "        False, False,  True, False, False, False, False, False, False,\n",
              "        False, False, False, False, False, False, False,  True, False,\n",
              "        False, False, False, False, False, False, False, False, False,\n",
              "        False, False, False, False, False, False, False, False, False,\n",
              "        False, False, False, False,  True,  True, False, False, False,\n",
              "        False, False, False, False, False, False, False, False, False,\n",
              "        False, False, False, False, False, False, False, False, False,\n",
              "        False, False, False, False, False, False, False, False, False,\n",
              "        False, False, False, False, False, False, False, False, False,\n",
              "        False, False, False, False, False, False, False, False, False,\n",
              "        False, False, False, False, False, False, False, False, False,\n",
              "        False, False, False, False, False, False, False, False, False,\n",
              "        False, False, False, False, False, False, False, False, False,\n",
              "        False, False, False, False, False, False, False, False, False,\n",
              "        False, False, False, False, False, False, False, False, False,\n",
              "        False, False, False,  True, False, False, False, False, False,\n",
              "        False, False, False, False, False, False, False, False, False,\n",
              "        False, False, False, False, False, False, False, False, False,\n",
              "        False, False, False, False, False, False, False, False, False,\n",
              "        False, False, False, False, False, False, False, False, False,\n",
              "        False, False, False, False, False, False, False, False, False,\n",
              "        False, False, False, False, False, False, False, False, False,\n",
              "        False, False, False, False, False, False, False, False, False,\n",
              "        False, False, False, False, False, False, False, False, False,\n",
              "        False, False, False, False, False, False, False, False, False,\n",
              "        False, False, False, False, False, False, False, False, False,\n",
              "        False, False, False, False, False, False, False, False, False,\n",
              "        False, False, False, False, False, False, False, False, False,\n",
              "        False, False, False, False, False, False, False, False, False,\n",
              "        False, False, False, False, False, False, False, False, False,\n",
              "        False, False, False, False, False, False, False, False, False,\n",
              "        False, False, False, False, False, False, False, False, False,\n",
              "        False, False, False, False, False, False, False, False, False,\n",
              "        False, False, False, False, False, False, False, False, False,\n",
              "        False, False, False, False, False, False, False, False, False,\n",
              "        False, False, False, False, False, False, False, False, False,\n",
              "        False, False, False, False, False, False, False, False, False,\n",
              "        False, False, False, False, False, False, False, False, False,\n",
              "        False, False, False, False, False, False, False, False, False,\n",
              "        False, False, False, False, False, False, False, False, False,\n",
              "        False, False, False, False, False, False, False, False, False,\n",
              "        False, False, False, False, False, False, False, False, False,\n",
              "        False, False, False, False, False, False, False, False, False,\n",
              "        False, False, False, False, False, False, False, False]), 1)"
            ]
          },
          "metadata": {
            "tags": []
          },
          "execution_count": 33
        }
      ]
    },
    {
      "cell_type": "code",
      "metadata": {
        "id": "fapdvNtkx1hB",
        "colab": {
          "base_uri": "https://localhost:8080/",
          "height": 295
        },
        "outputId": "bec79ed8-459e-4963-d1af-f037b78836e9"
      },
      "source": [
        "# Visualising the clusters\n",
        "plt.scatter(X[y_kmeans == 0, 0], X[y_kmeans == 0, 1], s = 100, c = 'red', label = 'Cluster 1')\n",
        "plt.scatter(X[y_kmeans == 1, 0], X[y_kmeans == 1, 1], s = 100, c = 'blue', label = 'Cluster 2')\n",
        "plt.scatter(X[y_kmeans == 2, 0], X[y_kmeans == 2, 1], s = 100, c = 'green', label = 'Cluster 3')\n",
        "plt.scatter(X[y_kmeans == 3, 0], X[y_kmeans == 3, 1], s = 100, c = 'cyan', label = 'Cluster 4')\n",
        "plt.scatter(X[y_kmeans== 4, 0], X[y_kmeans == 4, 1], s = 100, c = 'magenta', label = 'Cluster 5')\n",
        "plt.scatter(kmeans.cluster_centers_[:, 0], kmeans.cluster_centers_[:, 1], s = 300, c = 'yellow', label = 'Centroids')\n",
        "plt.title('Clusters of customers')\n",
        "plt.xlabel('Annual Income (k$)')\n",
        "plt.ylabel('Spending Score (1-100)')\n",
        "plt.legend()\n",
        "plt.show()"
      ],
      "execution_count": 36,
      "outputs": [
        {
          "output_type": "display_data",
          "data": {
            "image/png": "[encoded data removed]",
            "text/plain": [
              "<Figure size 432x288 with 1 Axes>"
            ]
          },
          "metadata": {
            "tags": [],
            "needs_background": "light"
          }
        }
      ]
    },
    {
      "cell_type": "code",
      "metadata": {
        "colab": {
          "base_uri": "https://localhost:8080/",
          "height": 282
        },
        "id": "LucgeqYj8khT",
        "outputId": "da83a908-ddb7-4536-ddcb-634b1f378d51"
      },
      "source": [
        "plt.scatter(X[y_kmeans == 0, 0], X[y_kmeans == 0, 1], s = 100, c = 'red', label = 'Careless')"
      ],
      "execution_count": 37,
      "outputs": [
        {
          "output_type": "execute_result",
          "data": {
            "text/plain": [
              "<matplotlib.collections.PathCollection at 0x7f1b332d6890>"
            ]
          },
          "metadata": {
            "tags": []
          },
          "execution_count": 37
        },
        {
          "output_type": "display_data",
          "data": {
            "image/png": "[encoded data removed]",
            "text/plain": [
              "<Figure size 432x288 with 1 Axes>"
            ]
          },
          "metadata": {
            "tags": [],
            "needs_background": "light"
          }
        }
      ]
    },
    {
      "cell_type": "code",
      "metadata": {
        "id": "kimqpuLHyMph",
        "colab": {
          "base_uri": "https://localhost:8080/",
          "height": 295
        },
        "outputId": "c65dc142-6160-410e-d635-e35b3040ba67"
      },
      "source": [
        "# Visualising the clusters\n",
        "\n",
        "plt.scatter(X[y_kmeans == 1, 0], X[y_kmeans == 1, 1], s = 100, c = 'blue', label = 'standard')\n",
        "plt.scatter(X[y_kmeans == 2, 0], X[y_kmeans == 2, 1], s = 100, c = 'green', label = 'Target')\n",
        "plt.scatter(X[y_kmeans == 3, 0], X[y_kmeans == 3, 1], s = 100, c = 'cyan', label = 'Careful')\n",
        "plt.scatter(X[y_kmeans== 4, 0], X[y_kmeans == 4, 1], s = 100, c = 'magenta', label = 'Sensible')\n",
        "plt.scatter(kmeans.cluster_centers_[:, 0], kmeans.cluster_centers_[:, 1], s = 300, c = 'yellow', label = 'Centroids')\n",
        "plt.title('Clusters of customers')\n",
        "plt.xlabel('Annual Income (k$)')\n",
        "plt.ylabel('Spending Score (1-100)')\n",
        "plt.legend()\n",
        "plt.show()"
      ],
      "execution_count": 38,
      "outputs": [
        {
          "output_type": "display_data",
          "data": {
            "image/png": "[encoded data removed]",
            "text/plain": [
              "<Figure size 432x288 with 1 Axes>"
            ]
          },
          "metadata": {
            "tags": [],
            "needs_background": "light"
          }
        }
      ]
    },
    {
      "cell_type": "code",
      "metadata": {
        "id": "BDoUrFYb_bWs",
        "colab": {
          "base_uri": "https://localhost:8080/"
        },
        "outputId": "0d482c52-73ba-46f7-9e5b-840d4c034f60"
      },
      "source": [
        "import pickle \n",
        "  \n",
        "# Save the trained model as a pickle string. \n",
        "saved_model = pickle.dumps(kmeans) \n",
        "  \n",
        "# Load the pickled model \n",
        "Saved_Model = pickle.loads(saved_model) \n",
        "  \n",
        "# Use the loaded pickled model to make predictions \n",
        "Saved_Model.predict(X)"
      ],
      "execution_count": 39,
      "outputs": [
        {
          "output_type": "execute_result",
          "data": {
            "text/plain": [
              "array([0, 0, 2, 2, 3, 2, 2, 2, 2, 0, 2, 2, 3, 3, 3, 2, 2, 2, 3, 2, 3, 2,\n",
              "       3, 4, 3, 3, 2, 3, 0, 1, 3, 2, 3, 3, 2, 2, 3, 0, 0, 1, 3, 3, 2, 0,\n",
              "       2, 0, 0, 4, 2, 0, 2, 2, 1, 0, 3, 2, 0, 0, 3, 2, 2, 4, 2, 0, 2, 0,\n",
              "       2, 3, 2, 2, 3, 3, 2, 3, 2, 3, 2, 0, 2, 2, 2, 0, 0, 3, 2, 4, 4, 1,\n",
              "       2, 3, 2, 2, 0, 2, 0, 2, 2, 2, 2, 2, 2, 0, 2, 1, 3, 3, 2, 0, 2, 0,\n",
              "       2, 0, 3, 3, 3, 2, 2, 2, 3, 2, 3, 2, 2, 0, 1, 1, 3, 3, 2, 1, 2, 2,\n",
              "       3, 2, 2, 2, 2, 2, 3, 2, 3, 3, 1, 2, 3, 3, 2, 2, 2, 3, 3, 2, 3, 0,\n",
              "       2, 0, 2, 3, 2, 2, 2, 2, 3, 0, 2, 0, 2, 2, 2, 2, 2, 0, 2, 2, 2, 2,\n",
              "       1, 2, 2, 2, 2, 1, 2, 4, 2, 2, 2, 2, 2, 0, 3, 2, 2, 2, 2, 3, 3, 2,\n",
              "       2, 2, 0, 0, 3, 2, 2, 0, 2, 2, 2, 0, 3, 0, 2, 2, 2, 0, 0, 3, 2, 2,\n",
              "       3, 2, 2, 2, 2, 2, 3, 2, 2, 2, 2, 0, 3, 2, 3, 2, 2, 3, 2, 1, 3, 3,\n",
              "       3, 2, 2, 2, 2, 2, 3, 2, 2, 0, 2, 3, 0, 3, 2, 2, 1, 1, 2, 2, 3, 2,\n",
              "       0, 0, 0, 3, 2, 3, 2, 2, 2, 1, 2, 2, 3, 2, 2, 3, 2, 2, 1, 3, 1, 1,\n",
              "       2, 3, 3, 1, 2, 2, 2, 0, 3, 2, 3, 2, 2, 2, 3, 0, 2, 2, 2, 0, 0, 3,\n",
              "       2, 0, 2, 3, 2, 2, 2, 0, 2, 2, 2, 0, 2, 2, 3, 2, 3, 3, 2, 2, 3, 2,\n",
              "       2, 0, 3, 2, 3, 3, 3, 2, 2, 2, 2, 2, 2, 2, 2, 2, 2, 3, 2, 0, 2, 0,\n",
              "       2, 2, 3, 2, 3, 2, 0, 2, 3, 2, 2, 2, 2, 2, 2, 2, 3, 2, 1, 3, 2, 3,\n",
              "       2, 2, 2, 1, 2, 2, 3, 3, 3, 2, 0, 2, 2, 3, 2, 2, 2, 2, 2, 3, 2, 2,\n",
              "       0, 2, 2, 2, 2, 3, 3, 3, 3, 2, 3, 0, 2, 2, 2, 2, 2, 2, 2, 2, 0, 2,\n",
              "       2, 2, 2, 3, 3, 3, 3, 2, 0, 3, 2, 2, 2, 2, 3, 2, 3, 3, 1, 0, 2, 2],\n",
              "      dtype=int32)"
            ]
          },
          "metadata": {
            "tags": []
          },
          "execution_count": 39
        }
      ]
    },
    {
      "cell_type": "code",
      "metadata": {
        "id": "vPG_Plk1AWu0"
      },
      "source": [
        "import joblib\n",
        "filename = '/content/drive/My Drive/KMeans_Model_customer_segmentaion.sav'\n",
        "joblib.dump(kmeans, filename)\n",
        " \n",
        "# some time later...\n",
        " \n",
        "# load the model from disk\n",
        "loaded_model = joblib.load(filename)\n"
      ],
      "execution_count": 41,
      "outputs": []
    },
    {
      "cell_type": "code",
      "metadata": {
        "colab": {
          "base_uri": "https://localhost:8080/"
        },
        "id": "UWjc7UfJMHyH",
        "outputId": "20165027-236e-46dc-f977-59cad3f86ffa"
      },
      "source": [
        "import pickle \n",
        "print(\"[INFO] Saving model...\")\n",
        "# Save the trained model as a pickle string. \n",
        "saved_model=pickle.dump(kmeans,open('/content/drive/My Drive/kmeanscluster.pkl', 'wb')) \n",
        "# Saving model to disk"
      ],
      "execution_count": 42,
      "outputs": [
        {
          "output_type": "stream",
          "text": [
            "[INFO] Saving model...\n"
          ],
          "name": "stdout"
        }
      ]
    },
    {
      "cell_type": "code",
      "metadata": {
        "colab": {
          "base_uri": "https://localhost:8080/"
        },
        "id": "EbBq69YkMKbK",
        "outputId": "7c894284-91da-460e-fc1d-59bbc091e147"
      },
      "source": [
        "# Load the pickled model \n",
        "model = pickle.load(open('/content/drive/My Drive/kmeanscluster.pkl','rb'))  \n",
        "# Use the loaded pickled model to make predictions \n",
        "model.predict(X)"
      ],
      "execution_count": 43,
      "outputs": [
        {
          "output_type": "execute_result",
          "data": {
            "text/plain": [
              "array([0, 0, 2, 2, 3, 2, 2, 2, 2, 0, 2, 2, 3, 3, 3, 2, 2, 2, 3, 2, 3, 2,\n",
              "       3, 4, 3, 3, 2, 3, 0, 1, 3, 2, 3, 3, 2, 2, 3, 0, 0, 1, 3, 3, 2, 0,\n",
              "       2, 0, 0, 4, 2, 0, 2, 2, 1, 0, 3, 2, 0, 0, 3, 2, 2, 4, 2, 0, 2, 0,\n",
              "       2, 3, 2, 2, 3, 3, 2, 3, 2, 3, 2, 0, 2, 2, 2, 0, 0, 3, 2, 4, 4, 1,\n",
              "       2, 3, 2, 2, 0, 2, 0, 2, 2, 2, 2, 2, 2, 0, 2, 1, 3, 3, 2, 0, 2, 0,\n",
              "       2, 0, 3, 3, 3, 2, 2, 2, 3, 2, 3, 2, 2, 0, 1, 1, 3, 3, 2, 1, 2, 2,\n",
              "       3, 2, 2, 2, 2, 2, 3, 2, 3, 3, 1, 2, 3, 3, 2, 2, 2, 3, 3, 2, 3, 0,\n",
              "       2, 0, 2, 3, 2, 2, 2, 2, 3, 0, 2, 0, 2, 2, 2, 2, 2, 0, 2, 2, 2, 2,\n",
              "       1, 2, 2, 2, 2, 1, 2, 4, 2, 2, 2, 2, 2, 0, 3, 2, 2, 2, 2, 3, 3, 2,\n",
              "       2, 2, 0, 0, 3, 2, 2, 0, 2, 2, 2, 0, 3, 0, 2, 2, 2, 0, 0, 3, 2, 2,\n",
              "       3, 2, 2, 2, 2, 2, 3, 2, 2, 2, 2, 0, 3, 2, 3, 2, 2, 3, 2, 1, 3, 3,\n",
              "       3, 2, 2, 2, 2, 2, 3, 2, 2, 0, 2, 3, 0, 3, 2, 2, 1, 1, 2, 2, 3, 2,\n",
              "       0, 0, 0, 3, 2, 3, 2, 2, 2, 1, 2, 2, 3, 2, 2, 3, 2, 2, 1, 3, 1, 1,\n",
              "       2, 3, 3, 1, 2, 2, 2, 0, 3, 2, 3, 2, 2, 2, 3, 0, 2, 2, 2, 0, 0, 3,\n",
              "       2, 0, 2, 3, 2, 2, 2, 0, 2, 2, 2, 0, 2, 2, 3, 2, 3, 3, 2, 2, 3, 2,\n",
              "       2, 0, 3, 2, 3, 3, 3, 2, 2, 2, 2, 2, 2, 2, 2, 2, 2, 3, 2, 0, 2, 0,\n",
              "       2, 2, 3, 2, 3, 2, 0, 2, 3, 2, 2, 2, 2, 2, 2, 2, 3, 2, 1, 3, 2, 3,\n",
              "       2, 2, 2, 1, 2, 2, 3, 3, 3, 2, 0, 2, 2, 3, 2, 2, 2, 2, 2, 3, 2, 2,\n",
              "       0, 2, 2, 2, 2, 3, 3, 3, 3, 2, 3, 0, 2, 2, 2, 2, 2, 2, 2, 2, 0, 2,\n",
              "       2, 2, 2, 3, 3, 3, 3, 2, 0, 3, 2, 2, 2, 2, 3, 2, 3, 3, 1, 0, 2, 2],\n",
              "      dtype=int32)"
            ]
          },
          "metadata": {
            "tags": []
          },
          "execution_count": 43
        }
      ]
    },
    {
      "cell_type": "code",
      "metadata": {
        "colab": {
          "base_uri": "https://localhost:8080/"
        },
        "id": "1vxTCOmBMM60",
        "outputId": "e0083a35-4dbf-4bc5-e899-0542be56af56"
      },
      "source": [
        "!pip install flask-ngrok"
      ],
      "execution_count": 44,
      "outputs": [
        {
          "output_type": "stream",
          "text": [
            "Collecting flask-ngrok\n",
            "  Downloading https://files.pythonhosted.org/packages/af/6c/f54cb686ad1129e27d125d182f90f52b32f284e6c8df58c1bae54fa1adbc/flask_ngrok-0.0.25-py3-none-any.whl\n",
            "Requirement already satisfied: Flask>=0.8 in /usr/local/lib/python3.7/dist-packages (from flask-ngrok) (1.1.2)\n",
            "Requirement already satisfied: requests in /usr/local/lib/python3.7/dist-packages (from flask-ngrok) (2.23.0)\n",
            "Requirement already satisfied: itsdangerous>=0.24 in /usr/local/lib/python3.7/dist-packages (from Flask>=0.8->flask-ngrok) (2.0.0)\n",
            "Requirement already satisfied: Jinja2>=2.10.1 in /usr/local/lib/python3.7/dist-packages (from Flask>=0.8->flask-ngrok) (2.11.3)\n",
            "Requirement already satisfied: Werkzeug>=0.15 in /usr/local/lib/python3.7/dist-packages (from Flask>=0.8->flask-ngrok) (2.0.0)\n",
            "Requirement already satisfied: click>=5.1 in /usr/local/lib/python3.7/dist-packages (from Flask>=0.8->flask-ngrok) (8.0.0)\n",
            "Requirement already satisfied: idna<3,>=2.5 in /usr/local/lib/python3.7/dist-packages (from requests->flask-ngrok) (2.10)\n",
            "Requirement already satisfied: certifi>=2017.4.17 in /usr/local/lib/python3.7/dist-packages (from requests->flask-ngrok) (2020.12.5)\n",
            "Requirement already satisfied: chardet<4,>=3.0.2 in /usr/local/lib/python3.7/dist-packages (from requests->flask-ngrok) (3.0.4)\n",
            "Requirement already satisfied: urllib3!=1.25.0,!=1.25.1,<1.26,>=1.21.1 in /usr/local/lib/python3.7/dist-packages (from requests->flask-ngrok) (1.24.3)\n",
            "Requirement already satisfied: MarkupSafe>=0.23 in /usr/local/lib/python3.7/dist-packages (from Jinja2>=2.10.1->Flask>=0.8->flask-ngrok) (2.0.0)\n",
            "Installing collected packages: flask-ngrok\n",
            "Successfully installed flask-ngrok-0.0.25\n"
          ],
          "name": "stdout"
        }
      ]
    },
    {
      "cell_type": "code",
      "metadata": {
        "colab": {
          "base_uri": "https://localhost:8080/"
        },
        "id": "GH1l7a8EMPrd",
        "outputId": "7bfe539d-06cf-4332-c0c7-f8e206781123"
      },
      "source": [
        "# Mounting Google Drive\n",
        "from google.colab import drive\n",
        "drive.mount('/content/drive')"
      ],
      "execution_count": 45,
      "outputs": [
        {
          "output_type": "stream",
          "text": [
            "Drive already mounted at /content/drive; to attempt to forcibly remount, call drive.mount(\"/content/drive\", force_remount=True).\n"
          ],
          "name": "stdout"
        }
      ]
    },
    {
      "cell_type": "code",
      "metadata": {
        "id": "8j79MzzYMScu"
      },
      "source": [
        "%mkdir templates -p"
      ],
      "execution_count": 46,
      "outputs": []
    },
    {
      "cell_type": "code",
      "metadata": {
        "colab": {
          "base_uri": "https://localhost:8080/"
        },
        "id": "_vfBlJs0MV2i",
        "outputId": "6f6b628e-b6b1-46af-cad6-065e450ac244"
      },
      "source": [
        "%%writefile templates/index.html\n",
        "<!DOCTYPE html>\n",
        "<html >\n",
        "<!--From https://codepen.io/frytyler/pen/EGdtg-->\n",
        "<head>\n",
        "<title>Machine Learning Lab Experiment Deployment</title>\n",
        "<meta charset=\"UTF-8\">\n",
        "<link href='https://fonts.googleapis.com/css?family=Pacifico' rel='stylesheet' type='text/css'>\n",
        "<link href='https://fonts.googleapis.com/css?family=Arimo' rel='stylesheet' type='text/css'>\n",
        "<link href='https://fonts.googleapis.com/css?family=Hind:300' rel='stylesheet' type='text/css'>\n",
        "<link href='https://fonts.googleapis.com/css?family=Open+Sans+Condensed:300' rel='stylesheet' type='text/css'>\n",
        " <link href=\"https://cdn.jsdelivr.net/npm/bootstrap@5.0.0-beta1/dist/css/bootstrap.min.css\" rel=\"stylesheet\" integrity=\"sha384-giJF6kkoqNQ00vy+HMDP7azOuL0xtbfIcaT9wjKHr8RbDVddVHyTfAAsrekwKmP1\" crossorigin=\"anonymous\"> \n",
        "<style><!DOCTYPE html>\n",
        "\n",
        "h1 {text-align: center;}\n",
        "h2 {text-align: center;}\n",
        "h3 {text-align: center;}\n",
        "p {text-align: center;}\n",
        "div {text-align: center;}\n",
        "</style>\n",
        "</head>\n",
        "\n",
        "<body>\n",
        " \n",
        "     \n",
        "<div class=\"\" style=\"background-color:blue;\" >\n",
        "<div class=\"clearfix\">\n",
        "           \n",
        "<div class=\"col-md-12\">\n",
        "<center><p style=\"font-size:40px;color:white;margin-top:10px;\">Poornima Institute of Engineering & Technology</p></center> \n",
        "<center><p style=\"font-size:30px;color:white;margin-top:10px;\">Department of Computer Engineering</p></center> \n",
        "<center><p style=\"font-size:25px;color:white;margin-top:10px;\">Machine Learning Lab Experiment Deployment</p></center> \n",
        "</div>\n",
        "</div>\n",
        "</div>\n",
        "\n",
        "<div class=\"login\">\n",
        "<h2 >K Means clustering Customer segmentation</h2>\n",
        "<h4>Developed by Deepak Moud</h4>\n",
        "<!-- Main Input For Receiving Query to our ML -->\n",
        "<form action=\"{{ url_for('predict')}}\"method=\"get\">\n",
        "\n",
        " \n",
        "    <div class=\"mb-3\">\n",
        "  <label for=\"exampleFormControlInput1\" class=\"form-label\">Annual Incomein $</label>\n",
        "      <input type=\"number\" name=\"income\" id=\"income\" value=\"\" min=\"1\" max=\"140\" placeholder=\"\" required=\"required\">\n",
        "      </div>\n",
        "      <div class=\"mb-3\">\n",
        "  <label for=\"exampleFormControlInput1\" class=\"form-label\">spending Score</label>\n",
        "      <input type=\"number\"  name=\"score\" id=\"score\" value=\"\"min=\"1\" max=\"100\" placeholder=\"1\" required=\"required\">\n",
        "      </div>\n",
        "  \n",
        "  <div class=\"col-auto\">\n",
        " \n",
        "    <button type=\"submit\" class=\"btn btn-danger\">predict type of Customer</button>\n",
        "  </div>\n",
        "</form>\n",
        "\n",
        "<br>\n",
        "<br>\n",
        "{{ prediction_text }}\n",
        "\n",
        "</div>\n",
        "\n",
        "<div class=\"\" style=\"background-color:blue;\" >\n",
        "<div class=\"clearfix\">\n",
        "           \n",
        "<div class=\"col-md-12\">\n",
        " <center><p style=\"font-size:25px;color:white;margin-top:20px;\">Machine Learning Lab Experiment 7</p></center> \n",
        "</div>\n",
        "</div>\n",
        "</div>\n",
        "</body>\n",
        "</html>"
      ],
      "execution_count": 47,
      "outputs": [
        {
          "output_type": "stream",
          "text": [
            "Writing templates/index.html\n"
          ],
          "name": "stdout"
        }
      ]
    },
    {
      "cell_type": "code",
      "metadata": {
        "colab": {
          "base_uri": "https://localhost:8080/"
        },
        "id": "kLM1_fSZMZre",
        "outputId": "995eb59c-760a-49ec-8c8a-e79077d35028"
      },
      "source": [
        "!pip install flask-ngrok\n",
        "import numpy as np\n",
        "from flask import Flask, request, jsonify, render_template\n",
        "from flask_ngrok import run_with_ngrok\n",
        "import pickle\n",
        "\n",
        "\n",
        "app = Flask(__name__)\n",
        "model = pickle.load(open('/content/drive/My Drive/kmeanscluster.pkl','rb'))   \n",
        "run_with_ngrok(app)\n",
        "\n",
        "@app.route('/')\n",
        "def home():\n",
        "  \n",
        "    return render_template(\"index.html\")\n",
        "  \n",
        "@app.route('/predict',methods=['GET'])\n",
        "def predict():\n",
        "  '''\n",
        "  For rendering results on HTML GUI\n",
        "  '''\n",
        "  income = int(request.args.get('income'))\n",
        "  score = int(request.args.get('score'))\n",
        "    \n",
        "    \n",
        "  predict = model.predict([[income,score ]])\n",
        "  if predict==[0]:\n",
        "    result=\"Customer is careless\"\n",
        "\n",
        "  elif predict==[1]:\n",
        "    result=\"Customer is standard\"\n",
        "  elif predict==[2]:\n",
        "    result=\"Customer is Target\"\n",
        "  elif predict==[3]:\n",
        "    result=\"Customer is careful\"\n",
        "\n",
        "  else:\n",
        "    result=\"Custmor is sensible\"\n",
        "    \n",
        "        \n",
        "  return render_template('index.html', prediction_text='Model  has predicted  : {}'.format(result))\n",
        "\n",
        "\n",
        "app.run()"
      ],
      "execution_count": null,
      "outputs": [
        {
          "output_type": "stream",
          "text": [
            "Requirement already satisfied: flask-ngrok in /usr/local/lib/python3.7/dist-packages (0.0.25)\n",
            "Requirement already satisfied: Flask>=0.8 in /usr/local/lib/python3.7/dist-packages (from flask-ngrok) (1.1.2)\n",
            "Requirement already satisfied: requests in /usr/local/lib/python3.7/dist-packages (from flask-ngrok) (2.23.0)\n",
            "Requirement already satisfied: click>=5.1 in /usr/local/lib/python3.7/dist-packages (from Flask>=0.8->flask-ngrok) (8.0.0)\n",
            "Requirement already satisfied: itsdangerous>=0.24 in /usr/local/lib/python3.7/dist-packages (from Flask>=0.8->flask-ngrok) (2.0.0)\n",
            "Requirement already satisfied: Jinja2>=2.10.1 in /usr/local/lib/python3.7/dist-packages (from Flask>=0.8->flask-ngrok) (2.11.3)\n",
            "Requirement already satisfied: Werkzeug>=0.15 in /usr/local/lib/python3.7/dist-packages (from Flask>=0.8->flask-ngrok) (2.0.0)\n",
            "Requirement already satisfied: idna<3,>=2.5 in /usr/local/lib/python3.7/dist-packages (from requests->flask-ngrok) (2.10)\n",
            "Requirement already satisfied: certifi>=2017.4.17 in /usr/local/lib/python3.7/dist-packages (from requests->flask-ngrok) (2020.12.5)\n",
            "Requirement already satisfied: urllib3!=1.25.0,!=1.25.1,<1.26,>=1.21.1 in /usr/local/lib/python3.7/dist-packages (from requests->flask-ngrok) (1.24.3)\n",
            "Requirement already satisfied: chardet<4,>=3.0.2 in /usr/local/lib/python3.7/dist-packages (from requests->flask-ngrok) (3.0.4)\n",
            "Requirement already satisfied: MarkupSafe>=0.23 in /usr/local/lib/python3.7/dist-packages (from Jinja2>=2.10.1->Flask>=0.8->flask-ngrok) (2.0.0)\n",
            " * Serving Flask app \"__main__\" (lazy loading)\n",
            " * Environment: production\n",
            "\u001b[31m   WARNING: This is a development server. Do not use it in a production deployment.\u001b[0m\n",
            "\u001b[2m   Use a production WSGI server instead.\u001b[0m\n",
            " * Debug mode: off\n"
          ],
          "name": "stdout"
        },
        {
          "output_type": "stream",
          "text": [
            " * Running on http://127.0.0.1:5000/ (Press CTRL+C to quit)\n"
          ],
          "name": "stderr"
        },
        {
          "output_type": "stream",
          "text": [
            " * Running on http://4fa4326166b3.ngrok.io\n",
            " * Traffic stats available on http://127.0.0.1:4040\n"
          ],
          "name": "stdout"
        },
        {
          "output_type": "stream",
          "text": [
            "127.0.0.1 - - [17/May/2021 07:57:18] \"GET / HTTP/1.1\" 200 -\n",
            "127.0.0.1 - - [17/May/2021 07:57:20] \"\u001b[33mGET /favicon.ico HTTP/1.1\u001b[0m\" 404 -\n",
            "127.0.0.1 - - [17/May/2021 07:57:20] \"GET / HTTP/1.1\" 200 -\n"
          ],
          "name": "stderr"
        }
      ]
    }
  ]
}